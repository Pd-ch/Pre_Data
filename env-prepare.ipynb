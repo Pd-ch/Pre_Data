{
 "cells": [
  {
   "cell_type": "markdown",
   "metadata": {},
   "source": [
    "pip换源"
   ]
  },
  {
   "cell_type": "code",
   "execution_count": null,
   "metadata": {},
   "outputs": [
    {
     "name": "stdout",
     "output_type": "stream",
     "text": [
      "Writing to /home/ben0i0d/.config/pip/pip.conf\n"
     ]
    }
   ],
   "source": [
    "!pip config set global.index-url https://mirrors.bfsu.edu.cn/pypi/web/simple"
   ]
  },
  {
   "cell_type": "markdown",
   "metadata": {},
   "source": [
    "依赖库安装"
   ]
  },
  {
   "cell_type": "code",
   "execution_count": 1,
   "metadata": {},
   "outputs": [
    {
     "name": "stdout",
     "output_type": "stream",
     "text": [
      "Looking in indexes: https://mirrors.bfsu.edu.cn/pypi/web/simple\n",
      "Requirement already satisfied: numpy in /mnt/bs_nsl/workspace/.venv/lib/python3.10/site-packages (2.0.0)\n",
      "Requirement already satisfied: tqdm in /mnt/bs_nsl/workspace/.venv/lib/python3.10/site-packages (4.66.4)\n",
      "Requirement already satisfied: numba in /mnt/bs_nsl/workspace/.venv/lib/python3.10/site-packages (0.60.0)\n",
      "Requirement already satisfied: joblib in /mnt/bs_nsl/workspace/.venv/lib/python3.10/site-packages (1.4.2)\n",
      "Requirement already satisfied: llvmlite<0.44,>=0.43.0dev0 in /mnt/bs_nsl/workspace/.venv/lib/python3.10/site-packages (from numba) (0.43.0)\n"
     ]
    }
   ],
   "source": [
    "!pip install numpy tqdm numba joblib"
   ]
  },
  {
   "cell_type": "code",
   "execution_count": null,
   "metadata": {},
   "outputs": [],
   "source": []
  }
 ],
 "metadata": {
  "kernelspec": {
   "display_name": ".venv",
   "language": "python",
   "name": "python3"
  },
  "language_info": {
   "codemirror_mode": {
    "name": "ipython",
    "version": 3
   },
   "file_extension": ".py",
   "mimetype": "text/x-python",
   "name": "python",
   "nbconvert_exporter": "python",
   "pygments_lexer": "ipython3",
   "version": "3.10.12"
  }
 },
 "nbformat": 4,
 "nbformat_minor": 2
}
