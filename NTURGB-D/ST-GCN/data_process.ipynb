{
 "cells": [
  {
   "cell_type": "code",
   "execution_count": 1,
   "metadata": {},
   "outputs": [
    {
     "name": "stdout",
     "output_type": "stream",
     "text": [
      "100%|████████████████████████████████████| 16487/16487 [02:00<00:00, 137.15it/s]\n",
      "100%|████████████████████████████████████| 18932/18932 [02:10<00:00, 145.22it/s]\n",
      "100%|████████████████████████████████████| 37646/37646 [04:11<00:00, 149.53it/s]\n",
      "100%|████████████████████████████████████| 40091/40091 [04:15<00:00, 156.62it/s]\n"
     ]
    }
   ],
   "source": [
    "!python gen_joint.py"
   ]
  },
  {
   "cell_type": "code",
   "execution_count": 9,
   "metadata": {},
   "outputs": [
    {
     "name": "stdout",
     "output_type": "stream",
     "text": [
      "xview val\n",
      "100%|███████████████████████████████████████████| 25/25 [00:13<00:00,  1.85it/s]\n",
      "xview train\n",
      "100%|███████████████████████████████████████████| 25/25 [00:26<00:00,  1.06s/it]\n",
      "xsub val\n",
      "100%|███████████████████████████████████████████| 25/25 [00:11<00:00,  2.16it/s]\n",
      "xsub train\n",
      "100%|███████████████████████████████████████████| 25/25 [00:27<00:00,  1.12s/it]\n"
     ]
    }
   ],
   "source": [
    "!python gen_modal.py --modal bone"
   ]
  },
  {
   "cell_type": "code",
   "execution_count": 10,
   "metadata": {},
   "outputs": [
    {
     "name": "stdout",
     "output_type": "stream",
     "text": [
      "xview val joint\n",
      "100%|█████████████████████████████████████████| 299/299 [00:04<00:00, 60.50it/s]\n",
      "xview val bone\n",
      "100%|█████████████████████████████████████████| 299/299 [00:07<00:00, 38.19it/s]\n",
      "xview train joint\n",
      "100%|█████████████████████████████████████████| 299/299 [00:12<00:00, 24.49it/s]\n",
      "xview train bone\n",
      "100%|█████████████████████████████████████████| 299/299 [00:14<00:00, 20.51it/s]\n",
      "xsub val joint\n",
      "100%|█████████████████████████████████████████| 299/299 [00:06<00:00, 46.67it/s]\n",
      "xsub val bone\n",
      "100%|█████████████████████████████████████████| 299/299 [00:05<00:00, 50.75it/s]\n",
      "xsub train joint\n",
      "100%|█████████████████████████████████████████| 299/299 [00:15<00:00, 19.16it/s]\n",
      "xsub train bone\n",
      "100%|█████████████████████████████████████████| 299/299 [00:16<00:00, 17.89it/s]\n"
     ]
    }
   ],
   "source": [
    "!python gen_modal.py --modal motion"
   ]
  },
  {
   "cell_type": "code",
   "execution_count": 7,
   "metadata": {},
   "outputs": [
    {
     "name": "stdout",
     "output_type": "stream",
     "text": [
      "xsub train\n",
      "xsub val\n",
      "xview train\n",
      "xview val\n"
     ]
    }
   ],
   "source": [
    "!python gen_modal.py --modal jmb"
   ]
  },
  {
   "cell_type": "markdown",
   "metadata": {},
   "source": [
    "测试"
   ]
  },
  {
   "cell_type": "code",
   "execution_count": null,
   "metadata": {},
   "outputs": [
    {
     "name": "stdout",
     "output_type": "stream",
     "text": [
      "S001C003P004R002A038.skeleton\n",
      "37\n",
      "(40091, 3, 300, 25, 2)\n"
     ]
    }
   ],
   "source": [
    "import pickle\n",
    "import numpy as np\n",
    "\n",
    "path = 'data/xsub/train_label.pkl'\n",
    "with open(path, 'rb') as f:\n",
    "    data = pickle.load(f)\n",
    "    print(data[0][0])\n",
    "    print(data[1][0])\n",
    "\n",
    "path = 'data/xsub/train_bone.npy'\n",
    "x = np.load(path)\n",
    "print(x.shape)"
   ]
  },
  {
   "cell_type": "code",
   "execution_count": null,
   "metadata": {},
   "outputs": [],
   "source": []
  }
 ],
 "metadata": {
  "kernelspec": {
   "display_name": "scdnet",
   "language": "python",
   "name": "python3"
  },
  "language_info": {
   "codemirror_mode": {
    "name": "ipython",
    "version": 3
   },
   "file_extension": ".py",
   "mimetype": "text/x-python",
   "name": "python",
   "nbconvert_exporter": "python",
   "pygments_lexer": "ipython3",
   "version": "3.10.12"
  }
 },
 "nbformat": 4,
 "nbformat_minor": 2
}
