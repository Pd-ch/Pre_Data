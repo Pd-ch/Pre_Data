{
 "cells": [
  {
   "cell_type": "code",
   "execution_count": 7,
   "metadata": {},
   "outputs": [
    {
     "name": "stdout",
     "output_type": "stream",
     "text": [
      "100%|████████████████████████████████████| 40091/40091 [00:40<00:00, 978.06it/s]\n",
      "100%|████████████████████████████████████| 16487/16487 [00:17<00:00, 955.92it/s]\n",
      "100%|████████████████████████████████████| 37646/37646 [00:39<00:00, 955.18it/s]\n",
      "100%|████████████████████████████████████| 18932/18932 [00:20<00:00, 938.00it/s]\n"
     ]
    }
   ],
   "source": [
    "!python gen_joint.py"
   ]
  },
  {
   "cell_type": "code",
   "execution_count": 1,
   "metadata": {},
   "outputs": [
    {
     "name": "stdout",
     "output_type": "stream",
     "text": [
      "xsub train\n",
      "100%|███████████████████████████████████████████| 25/25 [00:54<00:00,  2.18s/it]\n",
      "xsub val\n",
      "100%|███████████████████████████████████████████| 25/25 [00:21<00:00,  1.16it/s]\n",
      "xview train\n",
      "100%|███████████████████████████████████████████| 25/25 [00:50<00:00,  2.00s/it]\n",
      "xview val\n",
      "100%|███████████████████████████████████████████| 25/25 [00:25<00:00,  1.01s/it]\n"
     ]
    }
   ],
   "source": [
    "!python gen_modal.py --modal bone"
   ]
  },
  {
   "cell_type": "code",
   "execution_count": 3,
   "metadata": {},
   "outputs": [
    {
     "name": "stdout",
     "output_type": "stream",
     "text": [
      "xview val joint\n",
      "100%|█████████████████████████████████████████| 299/299 [00:36<00:00,  8.29it/s]\n",
      "xview val bone\n",
      "100%|█████████████████████████████████████████| 299/299 [00:40<00:00,  7.40it/s]\n",
      "xview train joint\n",
      "100%|█████████████████████████████████████████| 299/299 [01:43<00:00,  2.88it/s]\n",
      "xview train bone\n",
      "100%|█████████████████████████████████████████| 299/299 [02:28<00:00,  2.01it/s]\n",
      "xsub val joint\n",
      "100%|█████████████████████████████████████████| 299/299 [00:42<00:00,  7.09it/s]\n",
      "xsub val bone\n",
      "100%|█████████████████████████████████████████| 299/299 [00:30<00:00,  9.82it/s]\n",
      "xsub train joint\n",
      "100%|█████████████████████████████████████████| 299/299 [04:14<00:00,  1.17it/s]\n",
      "xsub train bone\n",
      "100%|█████████████████████████████████████████| 299/299 [03:52<00:00,  1.29it/s]\n"
     ]
    }
   ],
   "source": [
    "!python gen_modal.py --modal motion"
   ]
  },
  {
   "cell_type": "code",
   "execution_count": 1,
   "metadata": {},
   "outputs": [
    {
     "name": "stdout",
     "output_type": "stream",
     "text": [
      "xview val\n",
      "xview train\n",
      "xsub val\n",
      "xsub train\n"
     ]
    }
   ],
   "source": [
    "!python gen_modal.py --modal jmb"
   ]
  },
  {
   "cell_type": "markdown",
   "metadata": {},
   "source": [
    "测试"
   ]
  },
  {
   "cell_type": "code",
   "execution_count": 9,
   "metadata": {},
   "outputs": [
    {
     "name": "stdout",
     "output_type": "stream",
     "text": [
      "S001C003P004R002A038.skeleton\n",
      "37\n",
      "(40091, 3, 300, 25, 2)\n"
     ]
    }
   ],
   "source": [
    "import pickle\n",
    "import numpy as np\n",
    "\n",
    "path = 'data/xsub/train_label.pkl'\n",
    "with open(path, 'rb') as f:\n",
    "    data = pickle.load(f)\n",
    "    print(data[0][0])\n",
    "    print(data[1][0])\n",
    "\n",
    "path = 'data/xsub/train_bone.npy'\n",
    "x = np.load(path,mmap_mode='r')\n",
    "print(x.shape)"
   ]
  }
 ],
 "metadata": {
  "kernelspec": {
   "display_name": ".venv",
   "language": "python",
   "name": "python3"
  },
  "language_info": {
   "codemirror_mode": {
    "name": "ipython",
    "version": 3
   },
   "file_extension": ".py",
   "mimetype": "text/x-python",
   "name": "python",
   "nbconvert_exporter": "python",
   "pygments_lexer": "ipython3",
   "version": "3.12.6"
  }
 },
 "nbformat": 4,
 "nbformat_minor": 2
}
