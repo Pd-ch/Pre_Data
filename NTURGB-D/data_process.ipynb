{
 "cells": [
  {
   "cell_type": "code",
   "execution_count": 8,
   "metadata": {},
   "outputs": [
    {
     "name": "stdout",
     "output_type": "stream",
     "text": [
      "^C\n",
      "Traceback (most recent call last):\n",
      "  File \"/mnt/bs_ssl/workspace/Pre_Data/NTURGB-D/gen_joint.py\", line 4, in <module>\n",
      "    import numpy as np\n",
      "  File \"/mnt/bs_ssl/conda-envs/uav/lib/python3.11/site-packages/numpy/__init__.py\", line 157, in <module>\n",
      "    from . import random\n",
      "  File \"<frozen importlib._bootstrap>\", line 1176, in _find_and_load\n",
      "  File \"<frozen importlib._bootstrap>\", line 1147, in _find_and_load_unlocked\n",
      "  File \"<frozen importlib._bootstrap>\", line 690, in _load_unlocked\n",
      "  File \"<frozen importlib._bootstrap_external>\", line 936, in exec_module\n",
      "  File \"<frozen importlib._bootstrap_external>\", line 1032, in get_code\n",
      "  File \"<frozen importlib._bootstrap_external>\", line 1131, in get_data\n",
      "KeyboardInterrupt\n"
     ]
    }
   ],
   "source": [
    "!python gen_joint.py"
   ]
  },
  {
   "cell_type": "code",
   "execution_count": null,
   "metadata": {},
   "outputs": [
    {
     "name": "stdout",
     "output_type": "stream",
     "text": [
      "xview train\n",
      "xview val\n",
      "100%|███████████████████████████████████████████| 25/25 [02:09<00:00,  5.18s/it]\n",
      "100%|███████████████████████████████████████████| 25/25 [03:31<00:00,  8.47s/it]\n",
      "xsubxsub  valtrain\n",
      "\n",
      "100%|███████████████████████████████████████████| 25/25 [00:20<00:00,  1.24it/s]\n",
      "100%|███████████████████████████████████████████| 25/25 [01:51<00:00,  4.47s/it]\n"
     ]
    }
   ],
   "source": [
    "!python gen_bone.py"
   ]
  },
  {
   "cell_type": "code",
   "execution_count": 1,
   "metadata": {},
   "outputs": [
    {
     "name": "stdout",
     "output_type": "stream",
     "text": [
      "xview test joint\n",
      "Traceback (most recent call last):\n",
      "  File \"/mnt/bs_ssl/workspace/Pre_Data/NTURGB-D/gen_motion.py\", line 32, in <module>\n",
      "    gen_motion(dataset, set, part)\n",
      "  File \"/mnt/bs_ssl/workspace/Pre_Data/NTURGB-D/gen_motion.py\", line 21, in gen_motion\n",
      "    data = open_memmap('./data/{}/{}_{}.npy'.format(dataset, set, part),mode='r')\n",
      "           ^^^^^^^^^^^^^^^^^^^^^^^^^^^^^^^^^^^^^^^^^^^^^^^^^^^^^^^^^^^^^^^^^^^^^^\n",
      "  File \"/mnt/bs_ssl/conda-envs/uav/lib/python3.11/site-packages/numpy/lib/format.py\", line 924, in open_memmap\n",
      "    with open(os_fspath(filename), 'rb') as fp:\n",
      "         ^^^^^^^^^^^^^^^^^^^^^^^^^^^^^^^\n",
      "FileNotFoundError: [Errno 2] No such file or directory: './data/xview/test_joint.npy'\n"
     ]
    }
   ],
   "source": [
    "!python gen_motion.py"
   ]
  },
  {
   "cell_type": "markdown",
   "metadata": {},
   "source": [
    "测试"
   ]
  },
  {
   "cell_type": "code",
   "execution_count": null,
   "metadata": {},
   "outputs": [
    {
     "name": "stdout",
     "output_type": "stream",
     "text": [
      "S001C003P004R002A038.skeleton\n",
      "37\n",
      "(40091, 3, 300, 25, 2)\n"
     ]
    }
   ],
   "source": [
    "import pickle\n",
    "import numpy as np\n",
    "\n",
    "path = 'data/xsub/train_label.pkl'\n",
    "with open(path, 'rb') as f:\n",
    "    data = pickle.load(f)\n",
    "    print(data[0][0])\n",
    "    print(data[1][0])\n",
    "\n",
    "path = 'data/xsub/train_bone.npy'\n",
    "x = np.load(path)\n",
    "print(x.shape)"
   ]
  },
  {
   "cell_type": "code",
   "execution_count": null,
   "metadata": {},
   "outputs": [],
   "source": []
  }
 ],
 "metadata": {
  "kernelspec": {
   "display_name": "scdnet",
   "language": "python",
   "name": "python3"
  },
  "language_info": {
   "codemirror_mode": {
    "name": "ipython",
    "version": 3
   },
   "file_extension": ".py",
   "mimetype": "text/x-python",
   "name": "python",
   "nbconvert_exporter": "python",
   "pygments_lexer": "ipython3",
   "version": "3.11.9"
  }
 },
 "nbformat": 4,
 "nbformat_minor": 2
}
