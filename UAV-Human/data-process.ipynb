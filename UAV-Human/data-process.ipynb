{
 "cells": [
  {
   "cell_type": "markdown",
   "metadata": {},
   "source": [
    "数据划分"
   ]
  },
  {
   "cell_type": "code",
   "execution_count": 4,
   "metadata": {
    "execution": {
     "iopub.execute_input": "2024-11-05T13:36:27.631789Z",
     "iopub.status.busy": "2024-11-05T13:36:27.631492Z",
     "iopub.status.idle": "2024-11-05T13:36:42.371142Z",
     "shell.execute_reply": "2024-11-05T13:36:42.370259Z",
     "shell.execute_reply.started": "2024-11-05T13:36:27.631762Z"
    }
   },
   "outputs": [],
   "source": [
    "!python split.py"
   ]
  },
  {
   "cell_type": "markdown",
   "metadata": {},
   "source": [
    "数据集处理为npy格式(joint模态)"
   ]
  },
  {
   "cell_type": "code",
   "execution_count": 9,
   "metadata": {
    "execution": {
     "iopub.execute_input": "2024-11-05T13:58:52.272368Z",
     "iopub.status.busy": "2024-11-05T13:58:52.272036Z",
     "iopub.status.idle": "2024-11-05T14:01:10.792611Z",
     "shell.execute_reply": "2024-11-05T14:01:10.791746Z",
     "shell.execute_reply.started": "2024-11-05T13:58:52.272341Z"
    }
   },
   "outputs": [
    {
     "name": "stdout",
     "output_type": "stream",
     "text": [
      "100%|████████████████████████████████████| 16724/16724 [00:24<00:00, 689.46it/s]\n",
      "data/v1/train 14990 has no skeleton\n",
      "parallel the bone between hip(jpt 11)and spine(jpt 5) of the first person to the z axis\n",
      "100%|████████████████████████████████████| 16724/16724 [00:21<00:00, 766.33it/s]\n",
      "100%|██████████████████████████████████████| 6307/6307 [00:07<00:00, 877.85it/s]\n",
      "data/v1/test 5764 has no skeleton\n",
      "parallel the bone between hip(jpt 11)and spine(jpt 5) of the first person to the z axis\n",
      "100%|██████████████████████████████████████| 6307/6307 [00:06<00:00, 984.74it/s]\n",
      "100%|████████████████████████████████████| 16432/16432 [00:20<00:00, 795.03it/s]\n",
      "data/v2/train 11714 has no skeleton\n",
      "parallel the bone between hip(jpt 11)and spine(jpt 5) of the first person to the z axis\n",
      "100%|████████████████████████████████████| 16432/16432 [00:19<00:00, 854.36it/s]\n",
      "100%|██████████████████████████████████████| 6599/6599 [00:07<00:00, 896.62it/s]\n",
      "data/v2/test 72 has no skeleton\n",
      "parallel the bone between hip(jpt 11)and spine(jpt 5) of the first person to the z axis\n",
      "100%|██████████████████████████████████████| 6599/6599 [00:07<00:00, 885.29it/s]\n"
     ]
    }
   ],
   "source": [
    "!python gen_joint.py"
   ]
  },
  {
   "cell_type": "markdown",
   "metadata": {},
   "source": [
    "数据集处理为出bone模态"
   ]
  },
  {
   "cell_type": "code",
   "execution_count": 11,
   "metadata": {
    "execution": {
     "iopub.execute_input": "2024-11-05T14:01:29.632563Z",
     "iopub.status.busy": "2024-11-05T14:01:29.632152Z",
     "iopub.status.idle": "2024-11-05T14:02:56.821591Z",
     "shell.execute_reply": "2024-11-05T14:02:56.820895Z",
     "shell.execute_reply.started": "2024-11-05T14:01:29.632533Z"
    }
   },
   "outputs": [
    {
     "name": "stdout",
     "output_type": "stream",
     "text": [
      "v1 train\n",
      "100%|███████████████████████████████████████████| 18/18 [00:32<00:00,  1.80s/it]\n",
      "v1 test\n",
      "100%|███████████████████████████████████████████| 18/18 [00:12<00:00,  1.46it/s]\n",
      "v2 train\n",
      "100%|███████████████████████████████████████████| 18/18 [00:30<00:00,  1.68s/it]\n",
      "v2 test\n",
      "100%|███████████████████████████████████████████| 18/18 [00:11<00:00,  1.60it/s]\n"
     ]
    }
   ],
   "source": [
    "!python gen_modal.py --modal bone"
   ]
  },
  {
   "cell_type": "markdown",
   "metadata": {},
   "source": [
    "bone模态与joint模态合并"
   ]
  },
  {
   "cell_type": "code",
   "execution_count": 7,
   "metadata": {},
   "outputs": [
    {
     "name": "stdout",
     "output_type": "stream",
     "text": [
      "v1 train\n",
      "v1 test\n",
      "v2 train\n",
      "v2 test\n"
     ]
    }
   ],
   "source": [
    "!python gen_modal.py --modal jmb"
   ]
  },
  {
   "cell_type": "markdown",
   "metadata": {},
   "source": [
    "数据集处理出motion模态数据"
   ]
  },
  {
   "cell_type": "code",
   "execution_count": 1,
   "metadata": {},
   "outputs": [
    {
     "name": "stdout",
     "output_type": "stream",
     "text": [
      "v2 test bone\n",
      "100%|████████████████████████████████████████| 299/299 [00:01<00:00, 170.22it/s]\n",
      "v2 test joint\n",
      "100%|████████████████████████████████████████| 299/299 [00:01<00:00, 173.21it/s]\n",
      "v2 train bone\n",
      "100%|█████████████████████████████████████████| 299/299 [00:07<00:00, 42.16it/s]\n",
      "v2 train joint\n",
      "100%|█████████████████████████████████████████| 299/299 [00:28<00:00, 10.59it/s]\n",
      "v1 test bone\n",
      "100%|█████████████████████████████████████████| 299/299 [00:04<00:00, 61.93it/s]\n",
      "v1 test joint\n",
      "100%|████████████████████████████████████████| 299/299 [00:02<00:00, 107.12it/s]\n",
      "v1 train bone\n",
      "100%|█████████████████████████████████████████| 299/299 [00:31<00:00,  9.44it/s]\n",
      "v1 train joint\n",
      "100%|█████████████████████████████████████████| 299/299 [00:25<00:00, 11.54it/s]\n"
     ]
    }
   ],
   "source": [
    "!python gen_modal.py --modal motion"
   ]
  },
  {
   "cell_type": "markdown",
   "metadata": {},
   "source": [
    "数据集处理出angle模态数据"
   ]
  },
  {
   "cell_type": "code",
   "execution_count": 15,
   "metadata": {
    "execution": {
     "iopub.execute_input": "2024-11-05T14:06:27.211668Z",
     "iopub.status.busy": "2024-11-05T14:06:27.211370Z",
     "iopub.status.idle": "2024-11-05T14:14:57.439033Z",
     "shell.execute_reply": "2024-11-05T14:14:57.438112Z",
     "shell.execute_reply.started": "2024-11-05T14:06:27.211641Z"
    }
   },
   "outputs": [
    {
     "name": "stdout",
     "output_type": "stream",
     "text": [
      "v1 test\n",
      "100%|███████████████████████████████████████| 6307/6307 [01:12<00:00, 87.28it/s]\n",
      "v1 train\n",
      "100%|█████████████████████████████████████| 16724/16724 [03:02<00:00, 91.76it/s]\n",
      "v2 test\n",
      "100%|███████████████████████████████████████| 6599/6599 [01:11<00:00, 92.65it/s]\n",
      "v2 train\n",
      "100%|█████████████████████████████████████| 16432/16432 [02:59<00:00, 91.62it/s]\n"
     ]
    }
   ],
   "source": [
    "!python gen_modal.py --modal angle"
   ]
  },
  {
   "cell_type": "markdown",
   "metadata": {
    "execution": {
     "iopub.execute_input": "2024-11-05T15:45:09.954171Z",
     "iopub.status.busy": "2024-11-05T15:45:09.953874Z",
     "iopub.status.idle": "2024-11-05T15:45:09.975411Z",
     "shell.execute_reply": "2024-11-05T15:45:09.974501Z",
     "shell.execute_reply.started": "2024-11-05T15:45:09.954150Z"
    }
   },
   "source": [
    "数据集处理出reverse模态数据"
   ]
  },
  {
   "cell_type": "code",
   "execution_count": 55,
   "metadata": {
    "execution": {
     "iopub.execute_input": "2024-11-05T16:04:15.073601Z",
     "iopub.status.busy": "2024-11-05T16:04:15.073354Z",
     "iopub.status.idle": "2024-11-05T16:04:26.305332Z",
     "shell.execute_reply": "2024-11-05T16:04:26.304622Z",
     "shell.execute_reply.started": "2024-11-05T16:04:15.073581Z"
    }
   },
   "outputs": [
    {
     "name": "stdout",
     "output_type": "stream",
     "text": [
      "v1 test\n",
      "100%|█████████████████████████████████████| 6307/6307 [00:04<00:00, 1558.80it/s]\n",
      "v1 train\n",
      "100%|██████████████████████████████████| 16724/16724 [00:01<00:00, 12005.35it/s]\n",
      "v2 test\n",
      "100%|████████████████████████████████████| 6599/6599 [00:00<00:00, 12740.29it/s]\n",
      "v2 train\n",
      "100%|██████████████████████████████████| 16432/16432 [00:01<00:00, 13179.33it/s]\n"
     ]
    }
   ],
   "source": [
    "!python gen_modal.py --modal reverse"
   ]
  },
  {
   "cell_type": "markdown",
   "metadata": {},
   "source": [
    "测试生成数据"
   ]
  },
  {
   "cell_type": "code",
   "execution_count": 35,
   "metadata": {},
   "outputs": [
    {
     "name": "stdout",
     "output_type": "stream",
     "text": [
      "(16724, 3, 300, 17, 2)\n",
      "(16724,)\n",
      "(6307, 3, 300, 17, 2)\n",
      "(6307,)\n",
      "(16432, 3, 300, 17, 2)\n",
      "(16432,)\n",
      "(6599, 3, 300, 17, 2)\n",
      "(6599,)\n"
     ]
    }
   ],
   "source": [
    "import numpy as np\n",
    "\n",
    "x = np.load('data/v1/train_joint.npy',mmap_mode='r')\n",
    "print(x.shape)\n",
    "\n",
    "x = np.load('data/v1/train_label.npy',mmap_mode='r')\n",
    "print(x.shape)\n",
    "\n",
    "x = np.load('data/v1/test_joint.npy',mmap_mode='r')\n",
    "print(x.shape)\n",
    "\n",
    "x = np.load('data/v1/test_label.npy',mmap_mode='r')\n",
    "print(x.shape)\n",
    "\n",
    "x = np.load('data/v2/train_joint.npy',mmap_mode='r')\n",
    "print(x.shape)\n",
    "\n",
    "x = np.load('data/v2/train_label.npy',mmap_mode='r')\n",
    "print(x.shape)\n",
    "\n",
    "x = np.load('data/v2/test_joint.npy',mmap_mode='r')\n",
    "print(x.shape)\n",
    "\n",
    "x = np.load('data/v2/test_label.npy',mmap_mode='r')\n",
    "print(x.shape)"
   ]
  },
  {
   "cell_type": "markdown",
   "metadata": {},
   "source": [
    "split"
   ]
  },
  {
   "cell_type": "code",
   "execution_count": 1,
   "metadata": {},
   "outputs": [],
   "source": [
    "import numpy as np\n",
    "\n",
    "np_array = np.load('data/v1/test_joint.npy',mmap_mode='r')\n",
    "np.save('data/v1/test_joint_A.npy', np_array[:2000])\n",
    "np.save('data/v1/test_joint_B.npy', np_array[2000:])\n",
    "\n",
    "np_array = np.load('data/v1/test_label.npy',mmap_mode='r')\n",
    "np.save('data/v1/test_label_A.npy', np_array[:2000])\n",
    "np.save('data/v1/test_label_B.npy', np_array[2000:])\n",
    "\n",
    "np_array = np.load('data/v2/test_joint.npy',mmap_mode='r')\n",
    "np.save('data/v2/test_joint_A.npy', np_array[:2000])\n",
    "np.save('data/v2/test_joint_B.npy', np_array[2000:])\n",
    "\n",
    "np_array = np.load('data/v2/test_label.npy',mmap_mode='r')\n",
    "np.save('data/v2/test_label_A.npy', np_array[:2000])\n",
    "np.save('data/v2/test_label_B.npy', np_array[2000:])"
   ]
  },
  {
   "cell_type": "code",
   "execution_count": 2,
   "metadata": {},
   "outputs": [
    {
     "name": "stdout",
     "output_type": "stream",
     "text": [
      "(2000, 3, 300, 17, 2)\n",
      "(2000,)\n",
      "(4307, 3, 300, 17, 2)\n",
      "(4307,)\n",
      "(2000, 3, 300, 17, 2)\n",
      "(2000,)\n",
      "(4599, 3, 300, 17, 2)\n",
      "(4599,)\n"
     ]
    }
   ],
   "source": [
    "x = np.load('data/v1/test_joint_A.npy',mmap_mode='r')\n",
    "print(x.shape)\n",
    "\n",
    "x = np.load('data/v1/test_label_A.npy',mmap_mode='r')\n",
    "print(x.shape)\n",
    "\n",
    "x = np.load('data/v1/test_joint_B.npy',mmap_mode='r')\n",
    "print(x.shape)\n",
    "\n",
    "x = np.load('data/v1/test_label_B.npy',mmap_mode='r')\n",
    "print(x.shape)\n",
    "\n",
    "x = np.load('data/v2/test_joint_A.npy',mmap_mode='r')\n",
    "print(x.shape)\n",
    "\n",
    "x = np.load('data/v2/test_label_A.npy',mmap_mode='r')\n",
    "print(x.shape)\n",
    "\n",
    "x = np.load('data/v2/test_joint_B.npy',mmap_mode='r')\n",
    "print(x.shape)\n",
    "\n",
    "x = np.load('data/v2/test_label_B.npy',mmap_mode='r')\n",
    "print(x.shape)"
   ]
  }
 ],
 "metadata": {
  "kernelspec": {
   "display_name": ".venv",
   "language": "python",
   "name": "python3"
  },
  "language_info": {
   "codemirror_mode": {
    "name": "ipython",
    "version": 3
   },
   "file_extension": ".py",
   "mimetype": "text/x-python",
   "name": "python",
   "nbconvert_exporter": "python",
   "pygments_lexer": "ipython3",
   "version": "3.12.6"
  }
 },
 "nbformat": 4,
 "nbformat_minor": 4
}
