{
 "cells": [
  {
   "cell_type": "markdown",
   "metadata": {},
   "source": [
    "数据划分"
   ]
  },
  {
   "cell_type": "code",
   "execution_count": 32,
   "metadata": {},
   "outputs": [],
   "source": [
    "!python split.py"
   ]
  },
  {
   "cell_type": "markdown",
   "metadata": {},
   "source": [
    "数据集处理为npy格式(joint模态)"
   ]
  },
  {
   "cell_type": "code",
   "execution_count": 33,
   "metadata": {},
   "outputs": [
    {
     "name": "stdout",
     "output_type": "stream",
     "text": [
      "100%|██████████████████████████████████████| 6307/6307 [00:49<00:00, 127.97it/s]\n",
      "pad the null frames with the previous frames\n",
      " 41%|███████████████▌                      | 6721/16432 [00:51<01:41, 95.67it/s]2724  has no skeleton\n",
      "100%|██████████████████████████████████████| 6599/6599 [00:51<00:00, 127.81it/s]\n",
      "pad the null frames with the previous frames\n",
      "100%|█████████████████████████████████████| 6307/6307 [00:06<00:00, 1050.85it/s]\n",
      "sub the center joint #1 (spine joint in ntu and neck joint in kinetics)\n",
      " 45%|█████████████████                     | 7482/16724 [00:55<01:33, 98.71it/s]5222  has no skeleton\n",
      "100%|█████████████████████████████████████| 6599/6599 [00:05<00:00, 1319.00it/s]\n",
      "sub the center joint #1 (spine joint in ntu and neck joint in kinetics)\n",
      "100%|█████████████████████████████████████| 6307/6307 [00:01<00:00, 4517.68it/s]\n",
      "parallel the bone between hip(jpt 11)and spine(jpt 5) of the first person to the z axis\n",
      "100%|█████████████████████████████████████| 6599/6599 [00:01<00:00, 5347.60it/s]\n",
      "parallel the bone between hip(jpt 11)and spine(jpt 5) of the first person to the z axis\n",
      "100%|████████████████████████████████████| 16432/16432 [02:04<00:00, 132.20it/s]\n",
      "pad the null frames with the previous frames\n",
      "100%|████████████████████████████████████| 16724/16724 [02:04<00:00, 134.17it/s]\n",
      "pad the null frames with the previous frames\n",
      " 59%|██████████████████████▉                | 3704/6307 [01:18<01:37, 26.73it/s]13619  has no skeleton\n",
      " 59%|██████████████████████▉                | 3715/6307 [01:19<01:30, 28.79it/s]14690  has no skeleton\n",
      "100%|███████████████████████████████████| 16724/16724 [00:12<00:00, 1303.80it/s]\n",
      "sub the center joint #1 (spine joint in ntu and neck joint in kinetics)\n",
      "100%|███████████████████████████████████| 16432/16432 [00:13<00:00, 1208.82it/s]\n",
      "sub the center joint #1 (spine joint in ntu and neck joint in kinetics)\n",
      "100%|███████████████████████████████████| 16724/16724 [00:03<00:00, 4663.22it/s]\n",
      "parallel the bone between hip(jpt 11)and spine(jpt 5) of the first person to the z axis\n",
      "100%|███████████████████████████████████| 16432/16432 [00:03<00:00, 4580.11it/s]\n",
      "parallel the bone between hip(jpt 11)and spine(jpt 5) of the first person to the z axis\n",
      "100%|███████████████████████████████████████| 6307/6307 [02:14<00:00, 47.03it/s]\n",
      "100%|███████████████████████████████████████| 6599/6599 [02:32<00:00, 43.19it/s]\n",
      "100%|█████████████████████████████████████| 16432/16432 [05:56<00:00, 46.07it/s]\n",
      "100%|█████████████████████████████████████| 16724/16724 [06:19<00:00, 44.03it/s]\n"
     ]
    }
   ],
   "source": [
    "!python gen_joint.py --use_mp True"
   ]
  },
  {
   "cell_type": "markdown",
   "metadata": {},
   "source": [
    "数据集处理为出bone模态"
   ]
  },
  {
   "cell_type": "code",
   "execution_count": 3,
   "metadata": {},
   "outputs": [
    {
     "name": "stdout",
     "output_type": "stream",
     "text": [
      "v2 test\n",
      "v2 train\n",
      "v1 test\n",
      "v1 train\n",
      "100%|███████████████████████████████████████████| 18/18 [00:50<00:00,  2.79s/it]\n",
      "100%|███████████████████████████████████████████| 18/18 [00:51<00:00,  2.84s/it]\n",
      "100%|███████████████████████████████████████████| 18/18 [01:33<00:00,  5.18s/it]\n",
      "100%|███████████████████████████████████████████| 18/18 [01:34<00:00,  5.26s/it]\n"
     ]
    }
   ],
   "source": [
    "!python gen_modal.py --modal bone --use_mp True"
   ]
  },
  {
   "cell_type": "markdown",
   "metadata": {},
   "source": [
    "bone模态与joint模态合并"
   ]
  },
  {
   "cell_type": "code",
   "execution_count": 4,
   "metadata": {},
   "outputs": [
    {
     "name": "stdout",
     "output_type": "stream",
     "text": [
      "v2 train\n",
      "v2 test\n",
      "v1 train\n",
      "v1 test\n"
     ]
    }
   ],
   "source": [
    "!python gen_modal.py --modal jmb --use_mp True"
   ]
  },
  {
   "cell_type": "markdown",
   "metadata": {},
   "source": [
    "数据集处理出motion模态数据"
   ]
  },
  {
   "cell_type": "code",
   "execution_count": 5,
   "metadata": {},
   "outputs": [
    {
     "name": "stdout",
     "output_type": "stream",
     "text": [
      "v1 train bone\n",
      "100%|█████████████████████████████████████████| 299/299 [00:05<00:00, 53.96it/s]\n",
      "v1 train joint\n",
      "100%|█████████████████████████████████████████| 299/299 [00:10<00:00, 29.61it/s]\n",
      "v1 test bone\n",
      "100%|████████████████████████████████████████| 299/299 [00:02<00:00, 147.12it/s]\n",
      "v1 test joint\n",
      "100%|████████████████████████████████████████| 299/299 [00:01<00:00, 154.31it/s]\n",
      "v2 train bone\n",
      "100%|█████████████████████████████████████████| 299/299 [05:46<00:00,  1.16s/it]\n",
      "v2 train joint\n",
      "100%|█████████████████████████████████████████| 299/299 [01:01<00:00,  4.89it/s]\n",
      "v2 test bone\n",
      "100%|████████████████████████████████████████| 299/299 [00:02<00:00, 101.30it/s]\n",
      "v2 test joint\n",
      "100%|█████████████████████████████████████████| 299/299 [00:04<00:00, 62.30it/s]\n"
     ]
    }
   ],
   "source": [
    "!python gen_modal.py --modal motion"
   ]
  },
  {
   "cell_type": "markdown",
   "metadata": {},
   "source": [
    "测试生成数据"
   ]
  },
  {
   "cell_type": "code",
   "execution_count": 35,
   "metadata": {},
   "outputs": [
    {
     "name": "stdout",
     "output_type": "stream",
     "text": [
      "(16724, 3, 300, 17, 2)\n",
      "(16724,)\n",
      "(6307, 3, 300, 17, 2)\n",
      "(6307,)\n",
      "(16432, 3, 300, 17, 2)\n",
      "(16432,)\n",
      "(6599, 3, 300, 17, 2)\n",
      "(6599,)\n"
     ]
    }
   ],
   "source": [
    "import numpy as np\n",
    "\n",
    "x = np.load('data/v1/train_joint.npy',mmap_mode='r')\n",
    "print(x.shape)\n",
    "\n",
    "x = np.load('data/v1/train_label.npy',mmap_mode='r')\n",
    "print(x.shape)\n",
    "\n",
    "x = np.load('data/v1/test_joint.npy',mmap_mode='r')\n",
    "print(x.shape)\n",
    "\n",
    "x = np.load('data/v1/test_label.npy',mmap_mode='r')\n",
    "print(x.shape)\n",
    "\n",
    "x = np.load('data/v2/train_joint.npy',mmap_mode='r')\n",
    "print(x.shape)\n",
    "\n",
    "x = np.load('data/v2/train_label.npy',mmap_mode='r')\n",
    "print(x.shape)\n",
    "\n",
    "x = np.load('data/v2/test_joint.npy',mmap_mode='r')\n",
    "print(x.shape)\n",
    "\n",
    "x = np.load('data/v2/test_label.npy',mmap_mode='r')\n",
    "print(x.shape)"
   ]
  },
  {
   "cell_type": "markdown",
   "metadata": {},
   "source": [
    "split"
   ]
  },
  {
   "cell_type": "code",
   "execution_count": 1,
   "metadata": {},
   "outputs": [],
   "source": [
    "import numpy as np\n",
    "\n",
    "np_array = np.load('data/v1/test_joint.npy',mmap_mode='r')\n",
    "np.save('data/v1/test_joint_A.npy', np_array[:2000])\n",
    "np.save('data/v1/test_joint_B.npy', np_array[2000:])\n",
    "\n",
    "np_array = np.load('data/v1/test_label.npy',mmap_mode='r')\n",
    "np.save('data/v1/test_label_A.npy', np_array[:2000])\n",
    "np.save('data/v1/test_label_B.npy', np_array[2000:])\n",
    "\n",
    "np_array = np.load('data/v2/test_joint.npy',mmap_mode='r')\n",
    "np.save('data/v2/test_joint_A.npy', np_array[:2000])\n",
    "np.save('data/v2/test_joint_B.npy', np_array[2000:])\n",
    "\n",
    "np_array = np.load('data/v2/test_label.npy',mmap_mode='r')\n",
    "np.save('data/v2/test_label_A.npy', np_array[:2000])\n",
    "np.save('data/v2/test_label_B.npy', np_array[2000:])"
   ]
  },
  {
   "cell_type": "code",
   "execution_count": 2,
   "metadata": {},
   "outputs": [
    {
     "name": "stdout",
     "output_type": "stream",
     "text": [
      "(2000, 3, 300, 17, 2)\n",
      "(2000,)\n",
      "(4307, 3, 300, 17, 2)\n",
      "(4307,)\n",
      "(2000, 3, 300, 17, 2)\n",
      "(2000,)\n",
      "(4599, 3, 300, 17, 2)\n",
      "(4599,)\n"
     ]
    }
   ],
   "source": [
    "x = np.load('data/v1/test_joint_A.npy',mmap_mode='r')\n",
    "print(x.shape)\n",
    "\n",
    "x = np.load('data/v1/test_label_A.npy',mmap_mode='r')\n",
    "print(x.shape)\n",
    "\n",
    "x = np.load('data/v1/test_joint_B.npy',mmap_mode='r')\n",
    "print(x.shape)\n",
    "\n",
    "x = np.load('data/v1/test_label_B.npy',mmap_mode='r')\n",
    "print(x.shape)\n",
    "\n",
    "x = np.load('data/v2/test_joint_A.npy',mmap_mode='r')\n",
    "print(x.shape)\n",
    "\n",
    "x = np.load('data/v2/test_label_A.npy',mmap_mode='r')\n",
    "print(x.shape)\n",
    "\n",
    "x = np.load('data/v2/test_joint_B.npy',mmap_mode='r')\n",
    "print(x.shape)\n",
    "\n",
    "x = np.load('data/v2/test_label_B.npy',mmap_mode='r')\n",
    "print(x.shape)"
   ]
  },
  {
   "cell_type": "code",
   "execution_count": null,
   "metadata": {},
   "outputs": [],
   "source": []
  }
 ],
 "metadata": {
  "kernelspec": {
   "display_name": "mmvrac",
   "language": "python",
   "name": "python3"
  },
  "language_info": {
   "codemirror_mode": {
    "name": "ipython",
    "version": 3
   },
   "file_extension": ".py",
   "mimetype": "text/x-python",
   "name": "python",
   "nbconvert_exporter": "python",
   "pygments_lexer": "ipython3",
   "version": "3.10.12"
  }
 },
 "nbformat": 4,
 "nbformat_minor": 2
}
