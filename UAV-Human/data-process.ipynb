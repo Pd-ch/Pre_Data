{
 "cells": [
  {
   "cell_type": "markdown",
   "metadata": {},
   "source": [
    "数据划分"
   ]
  },
  {
   "cell_type": "code",
   "execution_count": 1,
   "metadata": {},
   "outputs": [],
   "source": [
    "!python split.py"
   ]
  },
  {
   "cell_type": "markdown",
   "metadata": {},
   "source": [
    "数据集处理为npy格式(joint模态)"
   ]
  },
  {
   "cell_type": "code",
   "execution_count": 4,
   "metadata": {},
   "outputs": [
    {
     "name": "stdout",
     "output_type": "stream",
     "text": [
      "100%|██████████████████████████████████████| 6307/6307 [00:41<00:00, 151.80it/s]\n",
      "pad the null frames with the previous frames\n",
      "100%|██████████████████████████████████████| 6599/6599 [00:42<00:00, 155.51it/s]\n",
      "pad the null frames with the previous frames\n",
      " 43%|████████████████▍                     | 2721/6307 [00:02<00:05, 674.25it/s]2724  has no skeleton\n",
      " 79%|██████████████████████████████        | 5218/6599 [00:04<00:01, 758.88it/s]5222  has no skeleton\n",
      "100%|█████████████████████████████████████| 6599/6599 [00:06<00:00, 1025.91it/s]\n",
      "sub the center joint #1 (spine joint in ntu and neck joint in kinetics)\n",
      "100%|██████████████████████████████████████| 6307/6307 [00:07<00:00, 837.03it/s]\n",
      "sub the center joint #1 (spine joint in ntu and neck joint in kinetics)\n",
      "100%|█████████████████████████████████████| 6599/6599 [00:01<00:00, 4558.75it/s]\n",
      "parallel the bone between hip(jpt 11)and spine(jpt 5) of the first person to the z axis\n",
      "100%|█████████████████████████████████████| 6307/6307 [00:01<00:00, 4508.02it/s]\n",
      "parallel the bone between hip(jpt 11)and spine(jpt 5) of the first person to the z axis\n",
      "100%|████████████████████████████████████| 16432/16432 [01:59<00:00, 137.38it/s]\n",
      "pad the null frames with the previous frames\n",
      "100%|████████████████████████████████████| 16724/16724 [02:01<00:00, 138.07it/s]\n",
      "pad the null frames with the previous frames\n",
      " 84%|██████████████████████████████▎     | 14064/16724 [00:14<00:02, 988.05it/s]13619  has no skeleton\n",
      " 85%|██████████████████████████████▌     | 13975/16432 [00:16<00:03, 704.64it/s]14690  has no skeleton\n",
      "100%|███████████████████████████████████| 16724/16724 [00:16<00:00, 1003.24it/s]\n",
      "sub the center joint #1 (spine joint in ntu and neck joint in kinetics)\n",
      "100%|████████████████████████████████████| 16432/16432 [00:19<00:00, 863.78it/s]\n",
      "sub the center joint #1 (spine joint in ntu and neck joint in kinetics)\n",
      "100%|███████████████████████████████████| 16724/16724 [00:04<00:00, 3785.63it/s]\n",
      "parallel the bone between hip(jpt 11)and spine(jpt 5) of the first person to the z axis\n",
      "100%|███████████████████████████████████| 16432/16432 [00:04<00:00, 3696.97it/s]\n",
      "parallel the bone between hip(jpt 11)and spine(jpt 5) of the first person to the z axis\n",
      "100%|███████████████████████████████████████| 6307/6307 [02:18<00:00, 45.61it/s]\n",
      "100%|███████████████████████████████████████| 6599/6599 [02:41<00:00, 40.91it/s]\n",
      "100%|█████████████████████████████████████| 16432/16432 [06:06<00:00, 44.80it/s]\n",
      "100%|█████████████████████████████████████| 16724/16724 [06:25<00:00, 43.34it/s]\n"
     ]
    }
   ],
   "source": [
    "!python gen_joint.py"
   ]
  },
  {
   "cell_type": "markdown",
   "metadata": {},
   "source": [
    "数据集处理为出bone模态"
   ]
  },
  {
   "cell_type": "code",
   "execution_count": 6,
   "metadata": {},
   "outputs": [
    {
     "name": "stdout",
     "output_type": "stream",
     "text": [
      "v1 train\n",
      "v1 test\n",
      "v2 train\n",
      "v2 test\n",
      "100%|███████████████████████████████████████████| 18/18 [00:11<00:00,  1.57it/s]\n",
      "100%|███████████████████████████████████████████| 18/18 [00:16<00:00,  1.11it/s]\n",
      "100%|███████████████████████████████████████████| 18/18 [00:41<00:00,  2.30s/it]\n",
      "100%|███████████████████████████████████████████| 18/18 [00:45<00:00,  2.50s/it]\n"
     ]
    }
   ],
   "source": [
    "!python gen_bone.py"
   ]
  },
  {
   "cell_type": "markdown",
   "metadata": {},
   "source": [
    "bone模态与joint模态合并"
   ]
  },
  {
   "cell_type": "code",
   "execution_count": 7,
   "metadata": {},
   "outputs": [
    {
     "name": "stdout",
     "output_type": "stream",
     "text": [
      "v1 train\n",
      "v1 test\n",
      "v2 train\n",
      "v2 test\n"
     ]
    }
   ],
   "source": [
    "!python merge_joint_bone.py"
   ]
  },
  {
   "cell_type": "markdown",
   "metadata": {},
   "source": [
    "数据集处理出motion模态数据"
   ]
  },
  {
   "cell_type": "code",
   "execution_count": 9,
   "metadata": {},
   "outputs": [
    {
     "name": "stdout",
     "output_type": "stream",
     "text": [
      "v2 test joint\n",
      "100%|█████████████████████████████████████████| 299/299 [00:04<00:00, 64.70it/s]\n",
      "v2 test bone\n",
      "100%|████████████████████████████████████████| 299/299 [00:01<00:00, 164.32it/s]\n",
      "v2 train joint\n",
      "100%|█████████████████████████████████████████| 299/299 [03:48<00:00,  1.31it/s]\n",
      "v2 train bone\n",
      "100%|█████████████████████████████████████████| 299/299 [00:05<00:00, 58.40it/s]\n",
      "v1 test joint\n",
      "100%|█████████████████████████████████████████| 299/299 [00:10<00:00, 28.51it/s]\n",
      "v1 test bone\n",
      "100%|████████████████████████████████████████| 299/299 [00:01<00:00, 183.38it/s]\n",
      "v1 train joint\n",
      "100%|█████████████████████████████████████████| 299/299 [03:14<00:00,  1.54it/s]\n",
      "v1 train bone\n",
      "100%|█████████████████████████████████████████| 299/299 [13:18<00:00,  2.67s/it]\n"
     ]
    }
   ],
   "source": [
    "!python gen_motion.py"
   ]
  },
  {
   "cell_type": "markdown",
   "metadata": {},
   "source": [
    "测试生成数据"
   ]
  },
  {
   "cell_type": "code",
   "execution_count": 12,
   "metadata": {},
   "outputs": [
    {
     "name": "stdout",
     "output_type": "stream",
     "text": [
      "data/v1/train/P000S00G10B10H10UC022000LC021000A000R0_08241716.txt\n",
      "0\n",
      "(16724, 3, 300, 17, 2)\n",
      "(16724, 3, 300, 17, 2)\n",
      "(16724, 6, 300, 17, 2)\n"
     ]
    }
   ],
   "source": [
    "import pickle\n",
    "import numpy as np\n",
    "\n",
    "path = 'data/v1/train_label.pkl'\n",
    "with open(path, 'rb') as f:\n",
    "    data = pickle.load(f)\n",
    "    print(data[0][0])\n",
    "    print(data[1][0])\n",
    "\n",
    "\n",
    "path = 'data/v1/train_data_joint.npy'\n",
    "x = np.load(path)\n",
    "print(x.shape)\n",
    "\n",
    "path = 'data/v1/train_data_bone.npy'\n",
    "x = np.load(path)\n",
    "print(x.shape)\n",
    "\n",
    "path = 'data/v1/train_data_joint_bone.npy'\n",
    "x = np.load(path)\n",
    "print(x.shape)"
   ]
  },
  {
   "cell_type": "code",
   "execution_count": null,
   "metadata": {},
   "outputs": [],
   "source": []
  }
 ],
 "metadata": {
  "kernelspec": {
   "display_name": "mmvrac",
   "language": "python",
   "name": "python3"
  },
  "language_info": {
   "codemirror_mode": {
    "name": "ipython",
    "version": 3
   },
   "file_extension": ".py",
   "mimetype": "text/x-python",
   "name": "python",
   "nbconvert_exporter": "python",
   "pygments_lexer": "ipython3",
   "version": "3.11.2"
  }
 },
 "nbformat": 4,
 "nbformat_minor": 2
}
