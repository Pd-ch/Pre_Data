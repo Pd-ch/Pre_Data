{
 "cells": [
  {
   "cell_type": "markdown",
   "metadata": {},
   "source": [
    "数据划分"
   ]
  },
  {
   "cell_type": "code",
   "execution_count": 1,
   "metadata": {},
   "outputs": [],
   "source": [
    "!python split.py"
   ]
  },
  {
   "cell_type": "markdown",
   "metadata": {},
   "source": [
    "数据集处理为npy格式(joint模态)"
   ]
  },
  {
   "cell_type": "code",
   "execution_count": 1,
   "metadata": {},
   "outputs": [
    {
     "name": "stdout",
     "output_type": "stream",
     "text": [
      "100%|████████████████████████████████████| 16724/16724 [00:19<00:00, 836.36it/s]\n",
      "data/v1/train 14690 has no skeleton\n",
      "parallel the bone between hip(jpt 11)and spine(jpt 5) of the first person to the z axis\n",
      "100%|████████████████████████████████████| 16724/16724 [00:20<00:00, 829.67it/s]\n",
      "100%|█████████████████████████████████████| 6307/6307 [00:05<00:00, 1126.84it/s]\n",
      "data/v1/test 2724 has no skeleton\n",
      "parallel the bone between hip(jpt 11)and spine(jpt 5) of the first person to the z axis\n",
      "100%|█████████████████████████████████████| 6307/6307 [00:05<00:00, 1075.28it/s]\n",
      "100%|███████████████████████████████████| 16432/16432 [00:15<00:00, 1039.82it/s]\n",
      "data/v2/train 13619 has no skeleton\n",
      "parallel the bone between hip(jpt 11)and spine(jpt 5) of the first person to the z axis\n",
      "100%|████████████████████████████████████| 16432/16432 [00:16<00:00, 983.59it/s]\n",
      "100%|█████████████████████████████████████| 6599/6599 [00:05<00:00, 1112.47it/s]\n",
      "data/v2/test 5222 has no skeleton\n",
      "parallel the bone between hip(jpt 11)and spine(jpt 5) of the first person to the z axis\n",
      "100%|██████████████████████████████████████| 6599/6599 [00:06<00:00, 978.30it/s]\n"
     ]
    }
   ],
   "source": [
    "!python gen_joint.py"
   ]
  },
  {
   "cell_type": "markdown",
   "metadata": {},
   "source": [
    "数据集处理为出bone模态"
   ]
  },
  {
   "cell_type": "code",
   "execution_count": 5,
   "metadata": {},
   "outputs": [
    {
     "name": "stdout",
     "output_type": "stream",
     "text": [
      "v1 train\n",
      "100%|███████████████████████████████████████████| 18/18 [00:08<00:00,  2.02it/s]\n",
      "v1 test\n",
      "100%|███████████████████████████████████████████| 18/18 [00:03<00:00,  5.61it/s]\n",
      "v2 train\n",
      "100%|███████████████████████████████████████████| 18/18 [00:08<00:00,  2.14it/s]\n",
      "v2 test\n",
      "100%|███████████████████████████████████████████| 18/18 [00:03<00:00,  5.20it/s]\n"
     ]
    }
   ],
   "source": [
    "!python gen_modal.py --modal bone"
   ]
  },
  {
   "cell_type": "markdown",
   "metadata": {},
   "source": [
    "bone模态与joint模态合并"
   ]
  },
  {
   "cell_type": "code",
   "execution_count": 7,
   "metadata": {},
   "outputs": [
    {
     "name": "stdout",
     "output_type": "stream",
     "text": [
      "v1 train\n",
      "v1 test\n",
      "v2 train\n",
      "v2 test\n"
     ]
    }
   ],
   "source": [
    "!python gen_modal.py --modal jmb"
   ]
  },
  {
   "cell_type": "markdown",
   "metadata": {},
   "source": [
    "数据集处理出motion模态数据"
   ]
  },
  {
   "cell_type": "code",
   "execution_count": 1,
   "metadata": {},
   "outputs": [
    {
     "name": "stdout",
     "output_type": "stream",
     "text": [
      "v2 test bone\n",
      "100%|████████████████████████████████████████| 299/299 [00:01<00:00, 170.22it/s]\n",
      "v2 test joint\n",
      "100%|████████████████████████████████████████| 299/299 [00:01<00:00, 173.21it/s]\n",
      "v2 train bone\n",
      "100%|█████████████████████████████████████████| 299/299 [00:07<00:00, 42.16it/s]\n",
      "v2 train joint\n",
      "100%|█████████████████████████████████████████| 299/299 [00:28<00:00, 10.59it/s]\n",
      "v1 test bone\n",
      "100%|█████████████████████████████████████████| 299/299 [00:04<00:00, 61.93it/s]\n",
      "v1 test joint\n",
      "100%|████████████████████████████████████████| 299/299 [00:02<00:00, 107.12it/s]\n",
      "v1 train bone\n",
      "100%|█████████████████████████████████████████| 299/299 [00:31<00:00,  9.44it/s]\n",
      "v1 train joint\n",
      "100%|█████████████████████████████████████████| 299/299 [00:25<00:00, 11.54it/s]\n"
     ]
    }
   ],
   "source": [
    "!python gen_modal.py --modal motion"
   ]
  },
  {
   "cell_type": "markdown",
   "metadata": {},
   "source": [
    "测试生成数据"
   ]
  },
  {
   "cell_type": "code",
   "execution_count": 35,
   "metadata": {},
   "outputs": [
    {
     "name": "stdout",
     "output_type": "stream",
     "text": [
      "(16724, 3, 300, 17, 2)\n",
      "(16724,)\n",
      "(6307, 3, 300, 17, 2)\n",
      "(6307,)\n",
      "(16432, 3, 300, 17, 2)\n",
      "(16432,)\n",
      "(6599, 3, 300, 17, 2)\n",
      "(6599,)\n"
     ]
    }
   ],
   "source": [
    "import numpy as np\n",
    "\n",
    "x = np.load('data/v1/train_joint.npy',mmap_mode='r')\n",
    "print(x.shape)\n",
    "\n",
    "x = np.load('data/v1/train_label.npy',mmap_mode='r')\n",
    "print(x.shape)\n",
    "\n",
    "x = np.load('data/v1/test_joint.npy',mmap_mode='r')\n",
    "print(x.shape)\n",
    "\n",
    "x = np.load('data/v1/test_label.npy',mmap_mode='r')\n",
    "print(x.shape)\n",
    "\n",
    "x = np.load('data/v2/train_joint.npy',mmap_mode='r')\n",
    "print(x.shape)\n",
    "\n",
    "x = np.load('data/v2/train_label.npy',mmap_mode='r')\n",
    "print(x.shape)\n",
    "\n",
    "x = np.load('data/v2/test_joint.npy',mmap_mode='r')\n",
    "print(x.shape)\n",
    "\n",
    "x = np.load('data/v2/test_label.npy',mmap_mode='r')\n",
    "print(x.shape)"
   ]
  },
  {
   "cell_type": "markdown",
   "metadata": {},
   "source": [
    "split"
   ]
  },
  {
   "cell_type": "code",
   "execution_count": 1,
   "metadata": {},
   "outputs": [],
   "source": [
    "import numpy as np\n",
    "\n",
    "np_array = np.load('data/v1/test_joint.npy',mmap_mode='r')\n",
    "np.save('data/v1/test_joint_A.npy', np_array[:2000])\n",
    "np.save('data/v1/test_joint_B.npy', np_array[2000:])\n",
    "\n",
    "np_array = np.load('data/v1/test_label.npy',mmap_mode='r')\n",
    "np.save('data/v1/test_label_A.npy', np_array[:2000])\n",
    "np.save('data/v1/test_label_B.npy', np_array[2000:])\n",
    "\n",
    "np_array = np.load('data/v2/test_joint.npy',mmap_mode='r')\n",
    "np.save('data/v2/test_joint_A.npy', np_array[:2000])\n",
    "np.save('data/v2/test_joint_B.npy', np_array[2000:])\n",
    "\n",
    "np_array = np.load('data/v2/test_label.npy',mmap_mode='r')\n",
    "np.save('data/v2/test_label_A.npy', np_array[:2000])\n",
    "np.save('data/v2/test_label_B.npy', np_array[2000:])"
   ]
  },
  {
   "cell_type": "code",
   "execution_count": 2,
   "metadata": {},
   "outputs": [
    {
     "name": "stdout",
     "output_type": "stream",
     "text": [
      "(2000, 3, 300, 17, 2)\n",
      "(2000,)\n",
      "(4307, 3, 300, 17, 2)\n",
      "(4307,)\n",
      "(2000, 3, 300, 17, 2)\n",
      "(2000,)\n",
      "(4599, 3, 300, 17, 2)\n",
      "(4599,)\n"
     ]
    }
   ],
   "source": [
    "x = np.load('data/v1/test_joint_A.npy',mmap_mode='r')\n",
    "print(x.shape)\n",
    "\n",
    "x = np.load('data/v1/test_label_A.npy',mmap_mode='r')\n",
    "print(x.shape)\n",
    "\n",
    "x = np.load('data/v1/test_joint_B.npy',mmap_mode='r')\n",
    "print(x.shape)\n",
    "\n",
    "x = np.load('data/v1/test_label_B.npy',mmap_mode='r')\n",
    "print(x.shape)\n",
    "\n",
    "x = np.load('data/v2/test_joint_A.npy',mmap_mode='r')\n",
    "print(x.shape)\n",
    "\n",
    "x = np.load('data/v2/test_label_A.npy',mmap_mode='r')\n",
    "print(x.shape)\n",
    "\n",
    "x = np.load('data/v2/test_joint_B.npy',mmap_mode='r')\n",
    "print(x.shape)\n",
    "\n",
    "x = np.load('data/v2/test_label_B.npy',mmap_mode='r')\n",
    "print(x.shape)"
   ]
  },
  {
   "cell_type": "code",
   "execution_count": null,
   "metadata": {},
   "outputs": [],
   "source": []
  }
 ],
 "metadata": {
  "kernelspec": {
   "display_name": ".venv",
   "language": "python",
   "name": "python3"
  },
  "language_info": {
   "codemirror_mode": {
    "name": "ipython",
    "version": 3
   },
   "file_extension": ".py",
   "mimetype": "text/x-python",
   "name": "python",
   "nbconvert_exporter": "python",
   "pygments_lexer": "ipython3",
   "version": "3.12.6"
  }
 },
 "nbformat": 4,
 "nbformat_minor": 2
}
