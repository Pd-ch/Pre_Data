{
 "cells": [
  {
   "cell_type": "markdown",
   "metadata": {},
   "source": [
    "数据划分"
   ]
  },
  {
   "cell_type": "code",
   "execution_count": 5,
   "metadata": {},
   "outputs": [],
   "source": [
    "!python split.py"
   ]
  },
  {
   "cell_type": "markdown",
   "metadata": {},
   "source": [
    "数据集处理为npy格式(joint模态)"
   ]
  },
  {
   "cell_type": "code",
   "execution_count": 1,
   "metadata": {},
   "outputs": [
    {
     "name": "stdout",
     "output_type": "stream",
     "text": [
      "100%|██████████████████████████████████████| 6599/6599 [00:47<00:00, 140.01it/s]\n",
      "pad the null frames with the previous frames\n",
      "100%|██████████████████████████████████████| 6307/6307 [00:47<00:00, 133.71it/s]\n",
      "pad the null frames with the previous frames\n",
      " 42%|███████████████▍                     | 6976/16724 [00:49<00:59, 164.21it/s]2724  has no skeleton\n",
      " 65%|████████████████████████▏            | 4130/6307 [00:03<00:02, 1029.75it/s]5222  has no skeleton\n",
      "100%|█████████████████████████████████████| 6599/6599 [00:04<00:00, 1363.40it/s]\n",
      "sub the center joint #1 (spine joint in ntu and neck joint in kinetics)\n",
      "100%|█████████████████████████████████████| 6307/6307 [00:05<00:00, 1113.64it/s]\n",
      "sub the center joint #1 (spine joint in ntu and neck joint in kinetics)\n",
      "100%|█████████████████████████████████████| 6599/6599 [00:01<00:00, 5183.88it/s]\n",
      "parallel the bone between hip(jpt 11)and spine(jpt 5) of the first person to the z axis\n",
      "100%|█████████████████████████████████████| 6307/6307 [00:01<00:00, 5582.20it/s]\n",
      "parallel the bone between hip(jpt 11)and spine(jpt 5) of the first person to the z axis\n",
      "100%|████████████████████████████████████| 16432/16432 [01:59<00:00, 137.49it/s]\n",
      "pad the null frames with the previous frames\n",
      "100%|████████████████████████████████████| 16724/16724 [02:00<00:00, 138.89it/s]\n",
      "pad the null frames with the previous frames\n",
      " 59%|███████████████████████                | 3733/6307 [01:16<00:59, 43.11it/s]13619  has no skeleton\n",
      " 87%|██████████████████████████████▌    | 14587/16724 [00:10<00:01, 1464.51it/s]14690  has no skeleton\n",
      "100%|███████████████████████████████████| 16724/16724 [00:12<00:00, 1349.16it/s]\n",
      "sub the center joint #1 (spine joint in ntu and neck joint in kinetics)\n",
      "100%|███████████████████████████████████| 16432/16432 [00:13<00:00, 1231.74it/s]\n",
      "sub the center joint #1 (spine joint in ntu and neck joint in kinetics)\n",
      "100%|███████████████████████████████████| 16432/16432 [00:03<00:00, 4701.77it/s]\n",
      "parallel the bone between hip(jpt 11)and spine(jpt 5) of the first person to the z axis\n",
      "100%|███████████████████████████████████| 16724/16724 [00:03<00:00, 4676.24it/s]\n",
      "parallel the bone between hip(jpt 11)and spine(jpt 5) of the first person to the z axis\n",
      "100%|███████████████████████████████████████| 6307/6307 [02:09<00:00, 48.75it/s]\n",
      "100%|███████████████████████████████████████| 6599/6599 [02:27<00:00, 44.66it/s]\n",
      "100%|█████████████████████████████████████| 16432/16432 [05:46<00:00, 47.47it/s]\n",
      "100%|█████████████████████████████████████| 16724/16724 [06:10<00:00, 45.16it/s]\n"
     ]
    }
   ],
   "source": [
    "!python gen_joint.py"
   ]
  },
  {
   "cell_type": "markdown",
   "metadata": {},
   "source": [
    "数据集处理为出bone模态"
   ]
  },
  {
   "cell_type": "code",
   "execution_count": 5,
   "metadata": {},
   "outputs": [
    {
     "name": "stdout",
     "output_type": "stream",
     "text": [
      "v1 train\n",
      "100%|███████████████████████████████████████████| 18/18 [00:08<00:00,  2.02it/s]\n",
      "v1 test\n",
      "100%|███████████████████████████████████████████| 18/18 [00:03<00:00,  5.61it/s]\n",
      "v2 train\n",
      "100%|███████████████████████████████████████████| 18/18 [00:08<00:00,  2.14it/s]\n",
      "v2 test\n",
      "100%|███████████████████████████████████████████| 18/18 [00:03<00:00,  5.20it/s]\n"
     ]
    }
   ],
   "source": [
    "!python gen_modal.py --modal bone"
   ]
  },
  {
   "cell_type": "markdown",
   "metadata": {},
   "source": [
    "bone模态与joint模态合并"
   ]
  },
  {
   "cell_type": "code",
   "execution_count": 7,
   "metadata": {},
   "outputs": [
    {
     "name": "stdout",
     "output_type": "stream",
     "text": [
      "v1 train\n",
      "v1 test\n",
      "v2 train\n",
      "v2 test\n"
     ]
    }
   ],
   "source": [
    "!python gen_modal.py --modal jmb"
   ]
  },
  {
   "cell_type": "markdown",
   "metadata": {},
   "source": [
    "数据集处理出motion模态数据"
   ]
  },
  {
   "cell_type": "code",
   "execution_count": 1,
   "metadata": {},
   "outputs": [
    {
     "name": "stdout",
     "output_type": "stream",
     "text": [
      "v2 test bone\n",
      "100%|████████████████████████████████████████| 299/299 [00:01<00:00, 170.22it/s]\n",
      "v2 test joint\n",
      "100%|████████████████████████████████████████| 299/299 [00:01<00:00, 173.21it/s]\n",
      "v2 train bone\n",
      "100%|█████████████████████████████████████████| 299/299 [00:07<00:00, 42.16it/s]\n",
      "v2 train joint\n",
      "100%|█████████████████████████████████████████| 299/299 [00:28<00:00, 10.59it/s]\n",
      "v1 test bone\n",
      "100%|█████████████████████████████████████████| 299/299 [00:04<00:00, 61.93it/s]\n",
      "v1 test joint\n",
      "100%|████████████████████████████████████████| 299/299 [00:02<00:00, 107.12it/s]\n",
      "v1 train bone\n",
      "100%|█████████████████████████████████████████| 299/299 [00:31<00:00,  9.44it/s]\n",
      "v1 train joint\n",
      "100%|█████████████████████████████████████████| 299/299 [00:25<00:00, 11.54it/s]\n"
     ]
    }
   ],
   "source": [
    "!python gen_modal.py --modal motion"
   ]
  },
  {
   "cell_type": "markdown",
   "metadata": {},
   "source": [
    "测试生成数据"
   ]
  },
  {
   "cell_type": "code",
   "execution_count": 35,
   "metadata": {},
   "outputs": [
    {
     "name": "stdout",
     "output_type": "stream",
     "text": [
      "(16724, 3, 300, 17, 2)\n",
      "(16724,)\n",
      "(6307, 3, 300, 17, 2)\n",
      "(6307,)\n",
      "(16432, 3, 300, 17, 2)\n",
      "(16432,)\n",
      "(6599, 3, 300, 17, 2)\n",
      "(6599,)\n"
     ]
    }
   ],
   "source": [
    "import numpy as np\n",
    "\n",
    "x = np.load('data/v1/train_joint.npy',mmap_mode='r')\n",
    "print(x.shape)\n",
    "\n",
    "x = np.load('data/v1/train_label.npy',mmap_mode='r')\n",
    "print(x.shape)\n",
    "\n",
    "x = np.load('data/v1/test_joint.npy',mmap_mode='r')\n",
    "print(x.shape)\n",
    "\n",
    "x = np.load('data/v1/test_label.npy',mmap_mode='r')\n",
    "print(x.shape)\n",
    "\n",
    "x = np.load('data/v2/train_joint.npy',mmap_mode='r')\n",
    "print(x.shape)\n",
    "\n",
    "x = np.load('data/v2/train_label.npy',mmap_mode='r')\n",
    "print(x.shape)\n",
    "\n",
    "x = np.load('data/v2/test_joint.npy',mmap_mode='r')\n",
    "print(x.shape)\n",
    "\n",
    "x = np.load('data/v2/test_label.npy',mmap_mode='r')\n",
    "print(x.shape)"
   ]
  },
  {
   "cell_type": "markdown",
   "metadata": {},
   "source": [
    "split"
   ]
  },
  {
   "cell_type": "code",
   "execution_count": 1,
   "metadata": {},
   "outputs": [],
   "source": [
    "import numpy as np\n",
    "\n",
    "np_array = np.load('data/v1/test_joint.npy',mmap_mode='r')\n",
    "np.save('data/v1/test_joint_A.npy', np_array[:2000])\n",
    "np.save('data/v1/test_joint_B.npy', np_array[2000:])\n",
    "\n",
    "np_array = np.load('data/v1/test_label.npy',mmap_mode='r')\n",
    "np.save('data/v1/test_label_A.npy', np_array[:2000])\n",
    "np.save('data/v1/test_label_B.npy', np_array[2000:])\n",
    "\n",
    "np_array = np.load('data/v2/test_joint.npy',mmap_mode='r')\n",
    "np.save('data/v2/test_joint_A.npy', np_array[:2000])\n",
    "np.save('data/v2/test_joint_B.npy', np_array[2000:])\n",
    "\n",
    "np_array = np.load('data/v2/test_label.npy',mmap_mode='r')\n",
    "np.save('data/v2/test_label_A.npy', np_array[:2000])\n",
    "np.save('data/v2/test_label_B.npy', np_array[2000:])"
   ]
  },
  {
   "cell_type": "code",
   "execution_count": 2,
   "metadata": {},
   "outputs": [
    {
     "name": "stdout",
     "output_type": "stream",
     "text": [
      "(2000, 3, 300, 17, 2)\n",
      "(2000,)\n",
      "(4307, 3, 300, 17, 2)\n",
      "(4307,)\n",
      "(2000, 3, 300, 17, 2)\n",
      "(2000,)\n",
      "(4599, 3, 300, 17, 2)\n",
      "(4599,)\n"
     ]
    }
   ],
   "source": [
    "x = np.load('data/v1/test_joint_A.npy',mmap_mode='r')\n",
    "print(x.shape)\n",
    "\n",
    "x = np.load('data/v1/test_label_A.npy',mmap_mode='r')\n",
    "print(x.shape)\n",
    "\n",
    "x = np.load('data/v1/test_joint_B.npy',mmap_mode='r')\n",
    "print(x.shape)\n",
    "\n",
    "x = np.load('data/v1/test_label_B.npy',mmap_mode='r')\n",
    "print(x.shape)\n",
    "\n",
    "x = np.load('data/v2/test_joint_A.npy',mmap_mode='r')\n",
    "print(x.shape)\n",
    "\n",
    "x = np.load('data/v2/test_label_A.npy',mmap_mode='r')\n",
    "print(x.shape)\n",
    "\n",
    "x = np.load('data/v2/test_joint_B.npy',mmap_mode='r')\n",
    "print(x.shape)\n",
    "\n",
    "x = np.load('data/v2/test_label_B.npy',mmap_mode='r')\n",
    "print(x.shape)"
   ]
  },
  {
   "cell_type": "code",
   "execution_count": null,
   "metadata": {},
   "outputs": [],
   "source": []
  }
 ],
 "metadata": {
  "kernelspec": {
   "display_name": "mmvrac",
   "language": "python",
   "name": "python3"
  },
  "language_info": {
   "codemirror_mode": {
    "name": "ipython",
    "version": 3
   },
   "file_extension": ".py",
   "mimetype": "text/x-python",
   "name": "python",
   "nbconvert_exporter": "python",
   "pygments_lexer": "ipython3",
   "version": "3.10.12"
  }
 },
 "nbformat": 4,
 "nbformat_minor": 2
}
