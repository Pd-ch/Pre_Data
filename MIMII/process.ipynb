{
 "cells": [
  {
   "cell_type": "code",
   "execution_count": 2,
   "id": "25e6a186-5122-472e-a7dd-55ade8ad93a0",
   "metadata": {
    "execution": {
     "iopub.execute_input": "2025-02-07T15:07:55.795354Z",
     "iopub.status.busy": "2025-02-07T15:07:55.795006Z",
     "iopub.status.idle": "2025-02-07T15:09:07.083665Z",
     "shell.execute_reply": "2025-02-07T15:09:07.082152Z",
     "shell.execute_reply.started": "2025-02-07T15:07:55.795327Z"
    }
   },
   "outputs": [
    {
     "name": "stdout",
     "output_type": "stream",
     "text": [
      "100%|████████████████████████████████████| 54057/54057 [01:06<00:00, 817.23it/s]\n",
      "processed data and label\n"
     ]
    }
   ],
   "source": [
    "!python gen_data.py"
   ]
  },
  {
   "cell_type": "code",
   "execution_count": 4,
   "id": "d52b2621-6d48-4930-88d3-5d5fbf328a2b",
   "metadata": {
    "execution": {
     "iopub.execute_input": "2025-02-07T15:13:26.650649Z",
     "iopub.status.busy": "2025-02-07T15:13:26.650340Z",
     "iopub.status.idle": "2025-02-07T15:19:32.975800Z",
     "shell.execute_reply": "2025-02-07T15:19:32.974986Z",
     "shell.execute_reply.started": "2025-02-07T15:13:26.650623Z"
    }
   },
   "outputs": [
    {
     "name": "stdout",
     "output_type": "stream",
     "text": [
      "100%|████████████████████████████████████| 54057/54057 [06:04<00:00, 148.32it/s]\n",
      "processed mfcc data\n"
     ]
    }
   ],
   "source": [
    "!python gen_mfcc.py"
   ]
  }
 ],
 "metadata": {
  "kernelspec": {
   "display_name": "Python 3 (ipykernel)",
   "language": "python",
   "name": "python3"
  },
  "language_info": {
   "codemirror_mode": {
    "name": "ipython",
    "version": 3
   },
   "file_extension": ".py",
   "mimetype": "text/x-python",
   "name": "python",
   "nbconvert_exporter": "python",
   "pygments_lexer": "ipython3",
   "version": "3.13.1"
  }
 },
 "nbformat": 4,
 "nbformat_minor": 5
}
