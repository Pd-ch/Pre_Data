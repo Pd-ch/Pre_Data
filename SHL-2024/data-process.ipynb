{
 "cells": [
  {
   "cell_type": "code",
   "execution_count": 32,
   "metadata": {},
   "outputs": [
    {
     "name": "stdout",
     "output_type": "stream",
     "text": [
      "processing train Label\n",
      "processing valid Label\n",
      "processing test data\n",
      "100%|█████████████████████████████████████████████| 9/9 [00:00<00:00, 17.79it/s]\n",
      "processing train data\n",
      "100%|█████████████████████████████████████████████| 4/4 [00:34<00:00,  8.58s/it]\n",
      "processing valid data\n",
      "100%|█████████████████████████████████████████████| 4/4 [00:04<00:00,  1.08s/it]\n"
     ]
    }
   ],
   "source": [
    "!python gen_data.py"
   ]
  },
  {
   "cell_type": "markdown",
   "metadata": {},
   "source": [
    "检查是否有 NaN"
   ]
  },
  {
   "cell_type": "code",
   "execution_count": 33,
   "metadata": {},
   "outputs": [
    {
     "name": "stdout",
     "output_type": "stream",
     "text": [
      "Contains NaN: False\n"
     ]
    }
   ],
   "source": [
    "import numpy as np\n",
    "\n",
    "data = np.load('data/npy_data/train/data.npy',mmap_mode='r')\n",
    "\n",
    "has_nan = np.isnan(data).any()\n",
    "print(f\"Contains NaN: {has_nan}\")"
   ]
  },
  {
   "cell_type": "code",
   "execution_count": 44,
   "metadata": {},
   "outputs": [
    {
     "name": "stdout",
     "output_type": "stream",
     "text": [
      "processing train Label\n",
      "processing valid Label\n",
      "processing test data\n",
      "100%|████████████████████████████████████████████| 9/9 [00:00<00:00, 444.06it/s]\n",
      "processing train\n",
      "100%|█████████████████████████████████████████████| 4/4 [00:40<00:00, 10.12s/it]\n",
      "processing valid\n",
      "100%|█████████████████████████████████████████████| 4/4 [00:06<00:00,  1.58s/it]\n"
     ]
    }
   ],
   "source": [
    "!python gen_rfft.py"
   ]
  }
 ],
 "metadata": {
  "kernelspec": {
   "display_name": ".venv",
   "language": "python",
   "name": "python3"
  },
  "language_info": {
   "codemirror_mode": {
    "name": "ipython",
    "version": 3
   },
   "file_extension": ".py",
   "mimetype": "text/x-python",
   "name": "python",
   "nbconvert_exporter": "python",
   "pygments_lexer": "ipython3",
   "version": "3.12.8"
  }
 },
 "nbformat": 4,
 "nbformat_minor": 2
}
