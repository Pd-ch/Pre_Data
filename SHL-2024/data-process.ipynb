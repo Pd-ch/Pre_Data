{
 "cells": [
  {
   "cell_type": "code",
   "execution_count": 28,
   "metadata": {},
   "outputs": [
    {
     "name": "stdout",
     "output_type": "stream",
     "text": [
      "processing train Label\n",
      "100%|████████████████████████████████| 196072/196072 [00:05<00:00, 38494.45it/s]\n",
      "processing valid Label\n",
      "100%|██████████████████████████████████| 28789/28789 [00:00<00:00, 69828.78it/s]\n",
      "processing train Bag\n",
      "100%|██████████████████████████████████████████| 9/9 [00:00<00:00, 31431.09it/s]\n",
      "processing train Hand\n",
      "100%|██████████████████████████████████████████| 9/9 [00:00<00:00, 31562.49it/s]\n",
      "processing train Hips\n",
      "100%|██████████████████████████████████████████| 9/9 [00:00<00:00, 31300.78it/s]\n",
      "processing train Torso\n",
      "100%|██████████████████████████████████████████| 9/9 [00:00<00:00, 31909.33it/s]\n",
      "processing valid Bag\n",
      "100%|██████████████████████████████████████████| 9/9 [00:00<00:00, 32017.59it/s]\n",
      "processing valid Hand\n",
      "100%|██████████████████████████████████████████| 9/9 [00:00<00:00, 30840.47it/s]\n",
      "processing valid Hips\n",
      "100%|██████████████████████████████████████████| 9/9 [00:00<00:00, 30516.36it/s]\n",
      "processing valid Torso\n",
      "100%|██████████████████████████████████████████| 9/9 [00:00<00:00, 29491.20it/s]\n",
      "processing test\n",
      "100%|██████████████████████████████████████████| 9/9 [00:00<00:00, 31748.31it/s]\n"
     ]
    }
   ],
   "source": [
    "!python gen_data.py"
   ]
  },
  {
   "cell_type": "code",
   "execution_count": 35,
   "metadata": {},
   "outputs": [
    {
     "name": "stdout",
     "output_type": "stream",
     "text": [
      "processing train Bag\n",
      "100%|████████████████████████████████| 196072/196072 [00:06<00:00, 28992.27it/s]\n",
      "processing train Hand\n",
      "100%|████████████████████████████████| 196072/196072 [00:06<00:00, 29526.96it/s]\n",
      "processing train Hips\n",
      "100%|████████████████████████████████| 196072/196072 [00:07<00:00, 26992.18it/s]\n",
      "processing train Torso\n",
      "100%|████████████████████████████████| 196072/196072 [00:06<00:00, 28931.49it/s]\n",
      "processing valid Bag\n",
      "100%|██████████████████████████████████| 28789/28789 [00:00<00:00, 46402.72it/s]\n",
      "processing valid Hand\n",
      "100%|██████████████████████████████████| 28789/28789 [00:00<00:00, 46565.87it/s]\n",
      "processing valid Hips\n",
      "100%|██████████████████████████████████| 28789/28789 [00:00<00:00, 44791.17it/s]\n",
      "processing valid Torso\n",
      "100%|██████████████████████████████████| 28789/28789 [00:00<00:00, 46100.12it/s]\n",
      "processing test Bag\n",
      "100%|██████████████████████████████████| 92726/92726 [00:03<00:00, 28652.25it/s]\n"
     ]
    }
   ],
   "source": [
    "!python gen_rfft.py"
   ]
  },
  {
   "cell_type": "code",
   "execution_count": null,
   "metadata": {},
   "outputs": [],
   "source": []
  }
 ],
 "metadata": {
  "kernelspec": {
   "display_name": ".venv",
   "language": "python",
   "name": "python3"
  },
  "language_info": {
   "codemirror_mode": {
    "name": "ipython",
    "version": 3
   },
   "file_extension": ".py",
   "mimetype": "text/x-python",
   "name": "python",
   "nbconvert_exporter": "python",
   "pygments_lexer": "ipython3",
   "version": "3.12.7"
  }
 },
 "nbformat": 4,
 "nbformat_minor": 2
}
