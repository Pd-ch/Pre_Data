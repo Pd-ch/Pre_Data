{
 "cells": [
  {
   "cell_type": "markdown",
   "metadata": {},
   "source": [
    "数据集处理为npy格式(joint模态)"
   ]
  },
  {
   "cell_type": "code",
   "execution_count": 1,
   "metadata": {},
   "outputs": [
    {
     "name": "stdout",
     "output_type": "stream",
     "text": [
      "100%|█████████████████████████████████████| 1484/1484 [00:00<00:00, 2170.65it/s]\n"
     ]
    }
   ],
   "source": [
    "!python gen_joint.py"
   ]
  },
  {
   "cell_type": "markdown",
   "metadata": {},
   "source": [
    "数据集处理为出bone模态"
   ]
  },
  {
   "cell_type": "code",
   "execution_count": 2,
   "metadata": {},
   "outputs": [
    {
     "name": "stdout",
     "output_type": "stream",
     "text": [
      "val\n",
      "100%|██████████████████████████████████████████| 20/20 [00:00<00:00, 218.91it/s]\n",
      "train\n",
      "100%|███████████████████████████████████████████| 20/20 [00:00<00:00, 87.58it/s]\n"
     ]
    }
   ],
   "source": [
    "!python gen_modal.py --modal bone"
   ]
  },
  {
   "cell_type": "markdown",
   "metadata": {},
   "source": [
    "bone模态与joint模态合并"
   ]
  },
  {
   "cell_type": "code",
   "execution_count": 4,
   "metadata": {},
   "outputs": [
    {
     "name": "stdout",
     "output_type": "stream",
     "text": [
      "val\n",
      "train\n"
     ]
    }
   ],
   "source": [
    "!python gen_modal.py --modal jmb"
   ]
  },
  {
   "cell_type": "markdown",
   "metadata": {},
   "source": [
    "数据集处理出motion模态数据"
   ]
  },
  {
   "cell_type": "code",
   "execution_count": 5,
   "metadata": {},
   "outputs": [
    {
     "name": "stdout",
     "output_type": "stream",
     "text": [
      "val joint\n",
      "100%|███████████████████████████████████████| 249/249 [00:00<00:00, 4496.03it/s]\n",
      "val bone\n",
      "100%|███████████████████████████████████████| 249/249 [00:00<00:00, 5236.94it/s]\n",
      "train joint\n",
      "100%|███████████████████████████████████████| 249/249 [00:00<00:00, 2098.36it/s]\n",
      "train bone\n",
      "100%|███████████████████████████████████████| 249/249 [00:00<00:00, 2401.81it/s]\n"
     ]
    }
   ],
   "source": [
    "!python gen_modal.py --modal motion"
   ]
  }
 ],
 "metadata": {
  "kernelspec": {
   "display_name": ".venv",
   "language": "python",
   "name": "python3"
  },
  "language_info": {
   "codemirror_mode": {
    "name": "ipython",
    "version": 3
   },
   "file_extension": ".py",
   "mimetype": "text/x-python",
   "name": "python",
   "nbconvert_exporter": "python",
   "pygments_lexer": "ipython3",
   "version": "3.12.6"
  }
 },
 "nbformat": 4,
 "nbformat_minor": 2
}
