{
 "cells": [
  {
   "cell_type": "markdown",
   "metadata": {},
   "source": [
    "数据集处理为npy格式(joint模态)"
   ]
  },
  {
   "cell_type": "code",
   "execution_count": 11,
   "metadata": {},
   "outputs": [
    {
     "name": "stdout",
     "output_type": "stream",
     "text": [
      "100%|█████████████████████████████████████| 1484/1484 [00:00<00:00, 2215.69it/s]\n"
     ]
    }
   ],
   "source": [
    "!python gen_joint.py"
   ]
  },
  {
   "cell_type": "markdown",
   "metadata": {},
   "source": [
    "数据集处理为出bone模态"
   ]
  },
  {
   "cell_type": "code",
   "execution_count": 2,
   "metadata": {},
   "outputs": [
    {
     "name": "stdout",
     "output_type": "stream",
     "text": [
      "train\n",
      "100%|███████████████████████████████████████████| 20/20 [00:00<00:00, 86.27it/s]\n",
      "val\n",
      "100%|██████████████████████████████████████████| 20/20 [00:00<00:00, 230.42it/s]\n"
     ]
    }
   ],
   "source": [
    "!python gen_modal.py --modal bone"
   ]
  },
  {
   "cell_type": "markdown",
   "metadata": {},
   "source": [
    "bone模态与joint模态合并"
   ]
  },
  {
   "cell_type": "code",
   "execution_count": 4,
   "metadata": {},
   "outputs": [
    {
     "name": "stdout",
     "output_type": "stream",
     "text": [
      "train\n",
      "val\n"
     ]
    }
   ],
   "source": [
    "!python gen_modal.py --modal jmb"
   ]
  },
  {
   "cell_type": "markdown",
   "metadata": {},
   "source": [
    "数据集处理出motion模态数据"
   ]
  },
  {
   "cell_type": "code",
   "execution_count": 5,
   "metadata": {},
   "outputs": [
    {
     "name": "stdout",
     "output_type": "stream",
     "text": [
      "train joint\n",
      "100%|███████████████████████████████████████| 249/249 [00:00<00:00, 2135.88it/s]\n",
      "train bone\n",
      "100%|███████████████████████████████████████| 249/249 [00:00<00:00, 2406.08it/s]\n",
      "val joint\n",
      "100%|███████████████████████████████████████| 249/249 [00:00<00:00, 4675.63it/s]\n",
      "val bone\n",
      "100%|███████████████████████████████████████| 249/249 [00:00<00:00, 5215.18it/s]\n"
     ]
    }
   ],
   "source": [
    "!python gen_modal.py --modal motion"
   ]
  }
 ],
 "metadata": {
  "kernelspec": {
   "display_name": ".venv",
   "language": "python",
   "name": "python3"
  },
  "language_info": {
   "codemirror_mode": {
    "name": "ipython",
    "version": 3
   },
   "file_extension": ".py",
   "mimetype": "text/x-python",
   "name": "python",
   "nbconvert_exporter": "python",
   "pygments_lexer": "ipython3",
   "version": "3.12.6"
  }
 },
 "nbformat": 4,
 "nbformat_minor": 2
}
