{
 "cells": [
  {
   "cell_type": "markdown",
   "metadata": {},
   "source": [
    "pip换源"
   ]
  },
  {
   "cell_type": "code",
   "execution_count": 1,
   "metadata": {},
   "outputs": [
    {
     "name": "stdout",
     "output_type": "stream",
     "text": [
      "Writing to /home/ben0i0d/.config/pip/pip.conf\n"
     ]
    }
   ],
   "source": [
    "!pip config set global.index-url https://mirrors.bfsu.edu.cn/pypi/web/simple"
   ]
  },
  {
   "cell_type": "markdown",
   "metadata": {},
   "source": [
    "依赖库安装"
   ]
  },
  {
   "cell_type": "code",
   "execution_count": 1,
   "metadata": {},
   "outputs": [
    {
     "name": "stdout",
     "output_type": "stream",
     "text": [
      "Looking in indexes: https://mirrors.bfsu.edu.cn/pypi/web/simple\n",
      "Requirement already satisfied: numpy in /mnt/bs_ssl/conda-envs/uav/lib/python3.11/site-packages (1.26.4)\n",
      "Requirement already satisfied: tqdm in /mnt/bs_ssl/conda-envs/uav/lib/python3.11/site-packages (4.66.2)\n"
     ]
    }
   ],
   "source": [
    "!pip install numpy tqdm"
   ]
  },
  {
   "cell_type": "markdown",
   "metadata": {},
   "source": [
    "数据划分"
   ]
  },
  {
   "cell_type": "code",
   "execution_count": 2,
   "metadata": {},
   "outputs": [],
   "source": [
    "!python split.py"
   ]
  },
  {
   "cell_type": "markdown",
   "metadata": {},
   "source": [
    "数据集处理为npy格式(joint模态)"
   ]
  },
  {
   "cell_type": "code",
   "execution_count": 9,
   "metadata": {},
   "outputs": [
    {
     "name": "stdout",
     "output_type": "stream",
     "text": [
      "100%|██████████████████████████████████████| 6307/6307 [00:50<00:00, 124.79it/s]\n",
      "pad the null frames with the previous frames\n",
      "100%|██████████████████████████████████████| 6599/6599 [00:51<00:00, 128.10it/s]\n",
      "pad the null frames with the previous frames\n",
      " 41%|██████████████▉                      | 6656/16432 [00:53<01:23, 117.12it/s]2724  has no skeleton\n",
      " 43%|███████████████▊                     | 7004/16432 [00:56<01:26, 109.51it/s]5222  has no skeleton\n",
      "100%|█████████████████████████████████████| 6599/6599 [00:06<00:00, 1040.46it/s]\n",
      "sub the center joint #1 (spine joint in ntu and neck joint in kinetics)\n",
      "100%|██████████████████████████████████████| 6307/6307 [00:07<00:00, 819.69it/s]\n",
      "sub the center joint #1 (spine joint in ntu and neck joint in kinetics)\n",
      "100%|█████████████████████████████████████| 6599/6599 [00:01<00:00, 4558.46it/s]\n",
      "parallel the bone between hip(jpt 11)and spine(jpt 5) of the first person to the z axis\n",
      "100%|█████████████████████████████████████| 6307/6307 [00:01<00:00, 4526.11it/s]\n",
      "parallel the bone between hip(jpt 11)and spine(jpt 5) of the first person to the z axis\n",
      "100%|████████████████████████████████████| 16724/16724 [02:14<00:00, 124.54it/s]\n",
      "pad the null frames with the previous frames\n",
      "100%|████████████████████████████████████| 16432/16432 [02:16<00:00, 120.74it/s]\n",
      "pad the null frames with the previous frames\n",
      " 88%|██████████████████████████████▋    | 14690/16724 [00:14<00:01, 1099.08it/s]14690  has no skeleton\n",
      " 83%|█████████████████████████████▊      | 13587/16432 [00:14<00:03, 907.57it/s]13619  has no skeleton\n",
      "100%|███████████████████████████████████| 16724/16724 [00:16<00:00, 1001.96it/s]\n",
      "sub the center joint #1 (spine joint in ntu and neck joint in kinetics)\n",
      "100%|████████████████████████████████████| 16432/16432 [00:17<00:00, 929.82it/s]\n",
      "sub the center joint #1 (spine joint in ntu and neck joint in kinetics)\n",
      "100%|███████████████████████████████████| 16724/16724 [00:03<00:00, 4913.78it/s]\n",
      "parallel the bone between hip(jpt 11)and spine(jpt 5) of the first person to the z axis\n",
      "100%|███████████████████████████████████| 16432/16432 [00:10<00:00, 1632.11it/s]\n",
      "parallel the bone between hip(jpt 11)and spine(jpt 5) of the first person to the z axis\n",
      "100%|███████████████████████████████████████| 6307/6307 [02:27<00:00, 42.85it/s]\n",
      "100%|███████████████████████████████████████| 6599/6599 [02:46<00:00, 39.72it/s]\n",
      "100%|█████████████████████████████████████| 16432/16432 [06:34<00:00, 41.70it/s]\n",
      "100%|█████████████████████████████████████| 16724/16724 [06:51<00:00, 40.65it/s]\n"
     ]
    }
   ],
   "source": [
    "!python generate_data.py"
   ]
  },
  {
   "cell_type": "markdown",
   "metadata": {},
   "source": [
    "数据集处理为出bone模态"
   ]
  },
  {
   "cell_type": "code",
   "execution_count": 6,
   "metadata": {},
   "outputs": [
    {
     "name": "stdout",
     "output_type": "stream",
     "text": [
      "v1 train\n",
      "v1 test\n",
      "v2 train\n",
      "v2 test\n",
      "100%|███████████████████████████████████████████| 18/18 [00:47<00:00,  2.66s/it]\n",
      "100%|███████████████████████████████████████████| 18/18 [02:07<00:00,  7.08s/it]\n",
      "100%|███████████████████████████████████████████| 18/18 [02:29<00:00,  8.32s/it]\n",
      "100%|███████████████████████████████████████████| 18/18 [03:01<00:00, 10.10s/it]\n"
     ]
    }
   ],
   "source": [
    "!python gen_bone_data.py"
   ]
  },
  {
   "cell_type": "markdown",
   "metadata": {},
   "source": [
    "bone模态与joint模态合并"
   ]
  },
  {
   "cell_type": "code",
   "execution_count": 25,
   "metadata": {},
   "outputs": [
    {
     "name": "stdout",
     "output_type": "stream",
     "text": [
      "v2 train\n",
      "v2 test\n",
      "v1 train\n",
      "v1 test\n"
     ]
    }
   ],
   "source": [
    "!python merge_joint_bone_data.py"
   ]
  },
  {
   "cell_type": "markdown",
   "metadata": {},
   "source": [
    "数据集处理出motion模态数据"
   ]
  },
  {
   "cell_type": "code",
   "execution_count": 7,
   "metadata": {},
   "outputs": [
    {
     "name": "stdout",
     "output_type": "stream",
     "text": [
      "v1 train joint\n",
      "100%|█████████████████████████████████████████| 299/299 [00:04<00:00, 60.09it/s]\n",
      "v1 train bone\n",
      "100%|█████████████████████████████████████████| 299/299 [00:15<00:00, 19.39it/s]\n",
      "v1 test joint\n",
      "100%|█████████████████████████████████████████| 299/299 [00:26<00:00, 11.12it/s]\n",
      "v1 test bone\n",
      "100%|█████████████████████████████████████████| 299/299 [00:03<00:00, 80.69it/s]\n",
      "v2 train joint\n",
      "100%|█████████████████████████████████████████| 299/299 [12:12<00:00,  2.45s/it]\n",
      "v2 train bone\n",
      "100%|█████████████████████████████████████████| 299/299 [21:59<00:00,  4.41s/it]\n",
      "v2 test joint\n",
      "100%|████████████████████████████████████████| 299/299 [00:02<00:00, 117.54it/s]\n",
      "v2 test bone\n",
      "100%|████████████████████████████████████████| 299/299 [00:01<00:00, 170.69it/s]\n"
     ]
    }
   ],
   "source": [
    "!python gen_motion_data.py"
   ]
  },
  {
   "cell_type": "markdown",
   "metadata": {},
   "source": [
    "测试生成数据"
   ]
  },
  {
   "cell_type": "code",
   "execution_count": 12,
   "metadata": {},
   "outputs": [
    {
     "name": "stdout",
     "output_type": "stream",
     "text": [
      "data/v1/train/P000S00G10B10H10UC022000LC021000A000R0_08241716.txt\n",
      "0\n",
      "(16724, 3, 300, 17, 2)\n",
      "(16724, 3, 300, 17, 2)\n",
      "(16724, 6, 300, 17, 2)\n"
     ]
    }
   ],
   "source": [
    "import pickle\n",
    "import numpy as np\n",
    "\n",
    "path = 'data/v1/train_label.pkl'\n",
    "with open(path, 'rb') as f:\n",
    "    data = pickle.load(f)\n",
    "    print(data[0][0])\n",
    "    print(data[1][0])\n",
    "\n",
    "\n",
    "path = 'data/v1/train_data_joint.npy'\n",
    "x = np.load(path)\n",
    "print(x.shape)\n",
    "\n",
    "path = 'data/v1/train_data_bone.npy'\n",
    "x = np.load(path)\n",
    "print(x.shape)\n",
    "\n",
    "path = 'data/v1/train_data_joint_bone.npy'\n",
    "x = np.load(path)\n",
    "print(x.shape)"
   ]
  },
  {
   "cell_type": "code",
   "execution_count": null,
   "metadata": {},
   "outputs": [],
   "source": []
  }
 ],
 "metadata": {
  "kernelspec": {
   "display_name": "mmvrac",
   "language": "python",
   "name": "python3"
  },
  "language_info": {
   "codemirror_mode": {
    "name": "ipython",
    "version": 3
   },
   "file_extension": ".py",
   "mimetype": "text/x-python",
   "name": "python",
   "nbconvert_exporter": "python",
   "pygments_lexer": "ipython3",
   "version": "3.11.9"
  }
 },
 "nbformat": 4,
 "nbformat_minor": 2
}
