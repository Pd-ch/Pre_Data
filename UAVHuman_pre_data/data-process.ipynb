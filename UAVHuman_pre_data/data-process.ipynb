{
 "cells": [
  {
   "cell_type": "markdown",
   "metadata": {},
   "source": [
    "pip换源"
   ]
  },
  {
   "cell_type": "code",
   "execution_count": 1,
   "metadata": {},
   "outputs": [
    {
     "name": "stdout",
     "output_type": "stream",
     "text": [
      "Writing to /home/ben0i0d/.config/pip/pip.conf\n"
     ]
    }
   ],
   "source": [
    "!pip config set global.index-url https://mirrors.bfsu.edu.cn/pypi/web/simple"
   ]
  },
  {
   "cell_type": "markdown",
   "metadata": {},
   "source": [
    "依赖库安装"
   ]
  },
  {
   "cell_type": "code",
   "execution_count": 2,
   "metadata": {},
   "outputs": [
    {
     "name": "stdout",
     "output_type": "stream",
     "text": [
      "Looking in indexes: https://mirrors.bfsu.edu.cn/pypi/web/simple\n",
      "Collecting numpy\n",
      "  Using cached https://mirrors.bfsu.edu.cn/pypi/web/packages/3a/d0/edc009c27b406c4f9cbc79274d6e46d634d139075492ad055e3d68445925/numpy-1.26.4-cp311-cp311-manylinux_2_17_x86_64.manylinux2014_x86_64.whl (18.3 MB)\n",
      "Collecting tqdm\n",
      "  Using cached https://mirrors.bfsu.edu.cn/pypi/web/packages/2a/14/e75e52d521442e2fcc9f1df3c5e456aead034203d4797867980de558ab34/tqdm-4.66.2-py3-none-any.whl (78 kB)\n",
      "Installing collected packages: tqdm, numpy\n",
      "Successfully installed numpy-1.26.4 tqdm-4.66.2\n"
     ]
    }
   ],
   "source": [
    "!pip install numpy tqdm"
   ]
  },
  {
   "cell_type": "markdown",
   "metadata": {},
   "source": [
    "数据划分"
   ]
  },
  {
   "cell_type": "code",
   "execution_count": 4,
   "metadata": {},
   "outputs": [],
   "source": [
    "!python split.py"
   ]
  },
  {
   "cell_type": "markdown",
   "metadata": {},
   "source": [
    "数据集处理为npy格式(joint模态)"
   ]
  },
  {
   "cell_type": "code",
   "execution_count": 2,
   "metadata": {},
   "outputs": [
    {
     "name": "stdout",
     "output_type": "stream",
     "text": [
      "100%|██████████████████████████████████████| 6307/6307 [00:42<00:00, 149.11it/s]\n",
      "pad the null frames with the previous frames\n",
      "100%|██████████████████████████████████████| 6599/6599 [00:43<00:00, 153.00it/s]\n",
      "pad the null frames with the previous frames\n",
      " 41%|███████████████                      | 6717/16432 [00:43<01:20, 120.21it/s]2724  has no skeleton\n",
      " 43%|███████████████▋                     | 6987/16432 [00:45<00:52, 181.27it/s]5222  has no skeleton\n",
      "100%|█████████████████████████████████████| 6307/6307 [00:03<00:00, 1637.26it/s]\n",
      "sub the center joint #1 (spine joint in ntu and neck joint in kinetics)\n",
      "100%|█████████████████████████████████████| 6599/6599 [00:03<00:00, 2093.69it/s]\n",
      "sub the center joint #1 (spine joint in ntu and neck joint in kinetics)\n",
      "100%|████████████████████████████████████| 6307/6307 [00:00<00:00, 12521.40it/s]\n",
      "parallel the bone between hip(jpt 11)and spine(jpt 5) of the first person to the z axis\n",
      "100%|████████████████████████████████████| 6599/6599 [00:00<00:00, 12831.01it/s]\n",
      "parallel the bone between hip(jpt 11)and spine(jpt 5) of the first person to the z axis\n",
      "100%|██████████████████████████████████████| 6307/6307 [00:46<00:00, 136.64it/s]\n",
      "100%|██████████████████████████████████████| 6599/6599 [00:52<00:00, 125.07it/s]\n",
      "100%|████████████████████████████████████| 16432/16432 [01:49<00:00, 150.46it/s]\n",
      "pad the null frames with the previous frames\n",
      "100%|████████████████████████████████████| 16724/16724 [01:49<00:00, 152.51it/s]\n",
      "pad the null frames with the previous frames\n",
      " 82%|████████████████████████████▋      | 13471/16432 [00:07<00:01, 1645.58it/s]13619  has no skeleton\n",
      " 87%|██████████████████████████████▌    | 14633/16724 [00:07<00:00, 2236.90it/s]14690  has no skeleton\n",
      "100%|███████████████████████████████████| 16724/16724 [00:07<00:00, 2092.62it/s]\n",
      "sub the center joint #1 (spine joint in ntu and neck joint in kinetics)\n",
      "100%|███████████████████████████████████| 16432/16432 [00:08<00:00, 1891.33it/s]\n",
      "sub the center joint #1 (spine joint in ntu and neck joint in kinetics)\n",
      "100%|██████████████████████████████████| 16724/16724 [00:01<00:00, 12335.09it/s]\n",
      "parallel the bone between hip(jpt 11)and spine(jpt 5) of the first person to the z axis\n",
      "100%|██████████████████████████████████| 16432/16432 [00:01<00:00, 12486.91it/s]\n",
      "parallel the bone between hip(jpt 11)and spine(jpt 5) of the first person to the z axis\n",
      "100%|████████████████████████████████████| 16432/16432 [02:02<00:00, 133.63it/s]\n",
      "100%|████████████████████████████████████| 16724/16724 [02:09<00:00, 128.81it/s]\n"
     ]
    }
   ],
   "source": [
    "!python generate_data.py"
   ]
  },
  {
   "cell_type": "markdown",
   "metadata": {},
   "source": [
    "数据集处理为出bone模态"
   ]
  },
  {
   "cell_type": "code",
   "execution_count": 6,
   "metadata": {},
   "outputs": [
    {
     "name": "stdout",
     "output_type": "stream",
     "text": [
      "v2 test\n",
      "v2 train\n",
      "v1 test\n",
      "v1 train\n",
      "100%|███████████████████████████████████████████| 18/18 [00:06<00:00,  2.81it/s]\n",
      "100%|███████████████████████████████████████████| 18/18 [00:12<00:00,  1.41it/s]\n",
      "100%|███████████████████████████████████████████| 18/18 [02:21<00:00,  7.86s/it]\n",
      "100%|███████████████████████████████████████████| 18/18 [02:31<00:00,  8.43s/it]\n"
     ]
    }
   ],
   "source": [
    "!python gen_bone_data.py"
   ]
  },
  {
   "cell_type": "markdown",
   "metadata": {},
   "source": [
    "数据集处理出motion模态数据"
   ]
  },
  {
   "cell_type": "code",
   "execution_count": 7,
   "metadata": {},
   "outputs": [
    {
     "name": "stdout",
     "output_type": "stream",
     "text": [
      "v2 test bone\n",
      "v2 test bone\n",
      "v2 test bone\n",
      "v2 test bone\n",
      "100%|████████████████████████████████████████| 299/299 [00:01<00:00, 159.96it/s]\n",
      "\n",
      "v2v2  testtest  jointjoint\n",
      "\n",
      "100%|████████████████████████████████████████| 299/299 [00:01<00:00, 160.42it/s]\n",
      "\n",
      "v2v2  traintrain  bonebone\n",
      "\n",
      "100%|█████████████████████████████████████████| 299/299 [00:04<00:00, 59.94it/s]\n",
      "100%|█████████████████████████████████████████| 299/299 [00:04<00:00, 60.19it/s]\n",
      "v2 train joint\n",
      "v2 train joint\n",
      "100%|█████████████████████████████████████████| 299/299 [00:11<00:00, 25.45it/s]\n",
      "\n",
      "v1v1  testtest  bonebone\n",
      "\n",
      "100%|████████████████████████████████████████| 299/299 [00:02<00:00, 100.89it/s]\n",
      "\n",
      "v1v1  testtest  jointjoint\n",
      "\n",
      "100%|█████████████████████████████████████████| 299/299 [00:03<00:00, 91.14it/s]\n",
      "v1 train bone\n",
      "100%|█████████████████████████████████████████| 299/299 [00:03<00:00, 90.77it/s]\n",
      "v1 train bone\n",
      "100%|█████████████████████████████████████████| 299/299 [00:10<00:00, 28.10it/s]\n",
      "v1 train joint\n",
      "100%|█████████████████████████████████████████| 299/299 [00:10<00:00, 28.23it/s]\n",
      "v1 train joint\n",
      "100%|█████████████████████████████████████████| 299/299 [00:29<00:00, 10.14it/s]\n",
      "\n"
     ]
    }
   ],
   "source": [
    "!python gen_motion_data.py"
   ]
  },
  {
   "cell_type": "markdown",
   "metadata": {},
   "source": [
    "bone模态与joint模态合并"
   ]
  },
  {
   "cell_type": "code",
   "execution_count": 1,
   "metadata": {},
   "outputs": [
    {
     "name": "stdout",
     "output_type": "stream",
     "text": [
      "v1 train\n",
      "v1 test\n",
      "v2 train\n",
      "v2 test\n"
     ]
    }
   ],
   "source": [
    "!python merge_joint_bone_data.py"
   ]
  },
  {
   "cell_type": "markdown",
   "metadata": {},
   "source": [
    "测试生成数据"
   ]
  },
  {
   "cell_type": "code",
   "execution_count": 5,
   "metadata": {},
   "outputs": [
    {
     "name": "stdout",
     "output_type": "stream",
     "text": [
      "data/v1/train/P000S00G10B10H10UC022000LC021000A000R0_08241716.txt\n",
      "0\n",
      "(16724, 3, 300, 17, 2)\n",
      "(16724, 3, 300, 17, 2)\n",
      "(16724, 6, 300, 17, 2)\n"
     ]
    }
   ],
   "source": [
    "import pickle\n",
    "import numpy as np\n",
    "\n",
    "path = 'data/v1/train_label.pkl'\n",
    "with open(path, 'rb') as f:\n",
    "    data = pickle.load(f)\n",
    "    print(data[0][0])\n",
    "    print(data[1][0])\n",
    "\n",
    "\n",
    "path = 'data/v1/train_data_joint.npy'\n",
    "x = np.load(path)\n",
    "print(x.shape)\n",
    "\n",
    "path = 'data/v1/train_data_bone.npy'\n",
    "x = np.load(path)\n",
    "print(x.shape)\n",
    "\n",
    "path = 'data/v1/train_data_joint_bone.npy'\n",
    "x = np.load(path)\n",
    "print(x.shape)"
   ]
  },
  {
   "cell_type": "code",
   "execution_count": null,
   "metadata": {},
   "outputs": [],
   "source": []
  }
 ],
 "metadata": {
  "kernelspec": {
   "display_name": "mmvrac",
   "language": "python",
   "name": "python3"
  },
  "language_info": {
   "codemirror_mode": {
    "name": "ipython",
    "version": 3
   },
   "file_extension": ".py",
   "mimetype": "text/x-python",
   "name": "python",
   "nbconvert_exporter": "python",
   "pygments_lexer": "ipython3",
   "version": "3.11.9"
  }
 },
 "nbformat": 4,
 "nbformat_minor": 2
}
