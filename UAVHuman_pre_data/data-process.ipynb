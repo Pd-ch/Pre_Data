{
 "cells": [
  {
   "cell_type": "markdown",
   "metadata": {},
   "source": [
    "pip换源"
   ]
  },
  {
   "cell_type": "code",
   "execution_count": 1,
   "metadata": {},
   "outputs": [
    {
     "name": "stdout",
     "output_type": "stream",
     "text": [
      "Writing to /home/ben0i0d/.config/pip/pip.conf\n"
     ]
    }
   ],
   "source": [
    "!pip config set global.index-url https://mirrors.bfsu.edu.cn/pypi/web/simple"
   ]
  },
  {
   "cell_type": "markdown",
   "metadata": {},
   "source": [
    "依赖库安装"
   ]
  },
  {
   "cell_type": "code",
   "execution_count": 2,
   "metadata": {},
   "outputs": [
    {
     "name": "stdout",
     "output_type": "stream",
     "text": [
      "Looking in indexes: https://mirrors.bfsu.edu.cn/pypi/web/simple\n",
      "Collecting numpy\n",
      "  Using cached https://mirrors.bfsu.edu.cn/pypi/web/packages/3a/d0/edc009c27b406c4f9cbc79274d6e46d634d139075492ad055e3d68445925/numpy-1.26.4-cp311-cp311-manylinux_2_17_x86_64.manylinux2014_x86_64.whl (18.3 MB)\n",
      "Collecting tqdm\n",
      "  Using cached https://mirrors.bfsu.edu.cn/pypi/web/packages/2a/14/e75e52d521442e2fcc9f1df3c5e456aead034203d4797867980de558ab34/tqdm-4.66.2-py3-none-any.whl (78 kB)\n",
      "Installing collected packages: tqdm, numpy\n",
      "Successfully installed numpy-1.26.4 tqdm-4.66.2\n"
     ]
    }
   ],
   "source": [
    "!pip install numpy tqdm"
   ]
  },
  {
   "cell_type": "markdown",
   "metadata": {},
   "source": [
    "数据划分"
   ]
  },
  {
   "cell_type": "code",
   "execution_count": 1,
   "metadata": {},
   "outputs": [],
   "source": [
    "!python split_v1.py"
   ]
  },
  {
   "cell_type": "code",
   "execution_count": 2,
   "metadata": {},
   "outputs": [],
   "source": [
    "!python split_v2.py"
   ]
  },
  {
   "cell_type": "markdown",
   "metadata": {},
   "source": [
    "数据集处理为npy格式(joint模态)"
   ]
  },
  {
   "cell_type": "code",
   "execution_count": 3,
   "metadata": {},
   "outputs": [
    {
     "name": "stdout",
     "output_type": "stream",
     "text": [
      "100%|████████████████████████████████████| 16724/16724 [01:52<00:00, 148.06it/s]\n",
      "pad the null frames with the previous frames\n",
      " 87%|██████████████████████████████▍    | 14559/16724 [00:06<00:00, 2341.53it/s]14690  has no skeleton\n",
      "100%|███████████████████████████████████| 16724/16724 [00:07<00:00, 2269.40it/s]\n",
      "sub the center joint #1 (spine joint in ntu and neck joint in kinetics)\n",
      "100%|██████████████████████████████████| 16724/16724 [00:01<00:00, 13600.94it/s]\n",
      "parallel the bone between hip(jpt 11)and spine(jpt 5) of the first person to the z axis\n",
      "100%|████████████████████████████████████| 16724/16724 [02:07<00:00, 131.36it/s]\n",
      "100%|██████████████████████████████████████| 6307/6307 [00:39<00:00, 158.79it/s]\n",
      "pad the null frames with the previous frames\n",
      " 42%|███████████████▌                     | 2652/6307 [00:01<00:01, 1865.71it/s]2724  has no skeleton\n",
      "100%|█████████████████████████████████████| 6307/6307 [00:03<00:00, 1735.87it/s]\n",
      "sub the center joint #1 (spine joint in ntu and neck joint in kinetics)\n",
      "100%|████████████████████████████████████| 6307/6307 [00:00<00:00, 13133.34it/s]\n",
      "parallel the bone between hip(jpt 11)and spine(jpt 5) of the first person to the z axis\n",
      "100%|██████████████████████████████████████| 6307/6307 [00:43<00:00, 143.74it/s]\n"
     ]
    }
   ],
   "source": [
    "!python generate_data.py --data_path data/v1"
   ]
  },
  {
   "cell_type": "code",
   "execution_count": 4,
   "metadata": {},
   "outputs": [
    {
     "name": "stdout",
     "output_type": "stream",
     "text": [
      "100%|████████████████████████████████████| 16432/16432 [01:44<00:00, 157.70it/s]\n",
      "pad the null frames with the previous frames\n",
      " 82%|████████████████████████████▋      | 13461/16432 [00:06<00:01, 1722.63it/s]13619  has no skeleton\n",
      "100%|███████████████████████████████████| 16432/16432 [00:08<00:00, 2017.30it/s]\n",
      "sub the center joint #1 (spine joint in ntu and neck joint in kinetics)\n",
      "100%|██████████████████████████████████| 16432/16432 [00:01<00:00, 13313.29it/s]\n",
      "parallel the bone between hip(jpt 11)and spine(jpt 5) of the first person to the z axis\n",
      "100%|████████████████████████████████████| 16432/16432 [01:59<00:00, 137.91it/s]\n",
      "100%|██████████████████████████████████████| 6599/6599 [00:40<00:00, 161.09it/s]\n",
      "pad the null frames with the previous frames\n",
      " 78%|████████████████████████████▊        | 5138/6599 [00:02<00:00, 2202.46it/s]5222  has no skeleton\n",
      "100%|█████████████████████████████████████| 6599/6599 [00:02<00:00, 2279.80it/s]\n",
      "sub the center joint #1 (spine joint in ntu and neck joint in kinetics)\n",
      "100%|████████████████████████████████████| 6599/6599 [00:00<00:00, 13512.75it/s]\n",
      "parallel the bone between hip(jpt 11)and spine(jpt 5) of the first person to the z axis\n",
      "100%|██████████████████████████████████████| 6599/6599 [00:49<00:00, 132.41it/s]\n"
     ]
    }
   ],
   "source": [
    "!python generate_data.py --data_path data/v2"
   ]
  },
  {
   "cell_type": "markdown",
   "metadata": {},
   "source": [
    "数据集处理为出bone模态"
   ]
  },
  {
   "cell_type": "code",
   "execution_count": 6,
   "metadata": {},
   "outputs": [
    {
     "name": "stdout",
     "output_type": "stream",
     "text": [
      "v1 train\n",
      "100%|███████████████████████████████████████████| 18/18 [00:13<00:00,  1.34it/s]\n",
      "v1 test\n",
      "100%|███████████████████████████████████████████| 18/18 [00:04<00:00,  4.35it/s]\n",
      "v2 train\n",
      "100%|███████████████████████████████████████████| 18/18 [00:12<00:00,  1.39it/s]\n",
      "v2 test\n",
      "100%|███████████████████████████████████████████| 18/18 [00:04<00:00,  4.11it/s]\n"
     ]
    }
   ],
   "source": [
    "!python gen_bone_data.py"
   ]
  },
  {
   "cell_type": "markdown",
   "metadata": {},
   "source": [
    "数据集处理出motion模态数据"
   ]
  },
  {
   "cell_type": "code",
   "execution_count": 8,
   "metadata": {},
   "outputs": [
    {
     "name": "stdout",
     "output_type": "stream",
     "text": [
      "v2 train joint\n",
      "100%|█████████████████████████████████████████| 299/299 [00:04<00:00, 65.56it/s]\n",
      "v2 train bone\n",
      "100%|█████████████████████████████████████████| 299/299 [16:57<00:00,  3.40s/it]\n",
      "v2 test joint\n",
      "100%|████████████████████████████████████████| 299/299 [00:01<00:00, 153.90it/s]\n",
      "v2 test bone\n",
      "100%|████████████████████████████████████████| 299/299 [00:01<00:00, 161.06it/s]\n",
      "v1 train joint\n",
      "100%|█████████████████████████████████████████| 299/299 [16:57<00:00,  3.40s/it]\n",
      "v1 train bone\n",
      "100%|█████████████████████████████████████████| 299/299 [00:04<00:00, 60.57it/s]\n",
      "v1 test joint\n",
      "100%|█████████████████████████████████████████| 299/299 [00:04<00:00, 63.53it/s]\n",
      "v1 test bone\n",
      "100%|████████████████████████████████████████| 299/299 [00:01<00:00, 184.78it/s]\n"
     ]
    }
   ],
   "source": [
    "!python gen_motion_data.py"
   ]
  },
  {
   "cell_type": "markdown",
   "metadata": {},
   "source": [
    "bone模态与joint模态合并"
   ]
  },
  {
   "cell_type": "code",
   "execution_count": 2,
   "metadata": {},
   "outputs": [
    {
     "name": "stdout",
     "output_type": "stream",
     "text": [
      "v2 train\n",
      "v2 test\n",
      "v1 train\n",
      "v1 test\n"
     ]
    }
   ],
   "source": [
    "!python merge_joint_bone_data.py"
   ]
  },
  {
   "cell_type": "markdown",
   "metadata": {},
   "source": [
    "测试生成数据"
   ]
  },
  {
   "cell_type": "code",
   "execution_count": 5,
   "metadata": {},
   "outputs": [
    {
     "name": "stdout",
     "output_type": "stream",
     "text": [
      "data/v1/train/P000S00G10B10H10UC022000LC021000A000R0_08241716.txt\n",
      "0\n",
      "(16724, 3, 300, 17, 2)\n",
      "(16724, 3, 300, 17, 2)\n",
      "(16724, 6, 300, 17, 2)\n"
     ]
    }
   ],
   "source": [
    "import pickle\n",
    "import numpy as np\n",
    "\n",
    "path = 'data/v1/train_label.pkl'\n",
    "with open(path, 'rb') as f:\n",
    "    data = pickle.load(f)\n",
    "    print(data[0][0])\n",
    "    print(data[1][0])\n",
    "\n",
    "\n",
    "path = 'data/v1/train_data_joint.npy'\n",
    "x = np.load(path)\n",
    "print(x.shape)\n",
    "\n",
    "path = 'data/v1/train_data_bone.npy'\n",
    "x = np.load(path)\n",
    "print(x.shape)\n",
    "\n",
    "path = 'data/v1/train_data_joint_bone.npy'\n",
    "x = np.load(path)\n",
    "print(x.shape)"
   ]
  },
  {
   "cell_type": "code",
   "execution_count": null,
   "metadata": {},
   "outputs": [],
   "source": []
  }
 ],
 "metadata": {
  "kernelspec": {
   "display_name": "mmvrac",
   "language": "python",
   "name": "python3"
  },
  "language_info": {
   "codemirror_mode": {
    "name": "ipython",
    "version": 3
   },
   "file_extension": ".py",
   "mimetype": "text/x-python",
   "name": "python",
   "nbconvert_exporter": "python",
   "pygments_lexer": "ipython3",
   "version": "3.11.9"
  }
 },
 "nbformat": 4,
 "nbformat_minor": 2
}
